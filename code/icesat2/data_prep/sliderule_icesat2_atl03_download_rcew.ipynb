{
 "cells": [
  {
   "cell_type": "markdown",
   "id": "adec21b9",
   "metadata": {},
   "source": [
    "## ICESat-2 ATL03 SlideRule Download\n",
    "\n",
    "This code is adapted from Sliderule Python example code. It is designed to pull ALT03 points for a region of interest and save those elevations as a CSV. \n",
    "\n",
    "Activate the sliderule_env enviroment to run\n",
    "\n",
    "Last updated by Karina Zikan July 2023"
   ]
  },
  {
   "cell_type": "code",
   "execution_count": 1,
   "id": "0fc6d457",
   "metadata": {},
   "outputs": [],
   "source": [
    "# import h5py\n",
    "# import shapely\n",
    "# import geopandas\n",
    "# import pandas"
   ]
  },
  {
   "cell_type": "code",
   "execution_count": 1,
   "id": "2c4a16f4",
   "metadata": {},
   "outputs": [],
   "source": [
    "import sys\n",
    "import time\n",
    "import logging\n",
    "import sliderule\n",
    "import pandas as pd\n",
    "import geopandas as gpd\n",
    "import concurrent.futures\n",
    "from datetime import datetime\n",
    "import matplotlib.pyplot as plt\n",
    "from pyproj import Transformer, CRS\n",
    "from shapely.geometry import Polygon, Point\n",
    "from sliderule import sliderule, icesat2, earthdata, h5"
   ]
  },
  {
   "cell_type": "markdown",
   "id": "9af7ad61",
   "metadata": {},
   "source": [
    "## SlideRule Configuration"
   ]
  },
  {
   "cell_type": "code",
   "execution_count": 2,
   "id": "f01cf9d3",
   "metadata": {},
   "outputs": [],
   "source": [
    "# Configure ICESat-2 API\n",
    "icesat2.init(\"slideruleearth.io\", verbose=False)"
   ]
  },
  {
   "cell_type": "markdown",
   "id": "4da5abf9",
   "metadata": {},
   "source": [
    "## Specify Region of Interest"
   ]
  },
  {
   "cell_type": "markdown",
   "id": "df0dd474",
   "metadata": {},
   "source": [
    "#### 1. Make geojson from shapefile - if you have a geojson of the region skip to 2."
   ]
  },
  {
   "cell_type": "code",
   "execution_count": 3,
   "id": "7be0c803",
   "metadata": {},
   "outputs": [
    {
     "data": {
      "text/plain": [
       "False"
      ]
     },
     "execution_count": 3,
     "metadata": {},
     "output_type": "execute_result"
    }
   ],
   "source": [
    "# Specify region of interest shapefile\n",
    "shp = \"/Users/titus/BSU/remote_sensing/tutorials/icesat2/karina/RCEW-outline_WGS84.shp\"\n",
    "shapefile = gpd.read_file(shp)\n",
    "# shapefile.to_file('DryCreek/boundDCEW/boundDCEW_WGS84.geojson', driver='GeoJSON')\n",
    "shapefile.crs is None"
   ]
  },
  {
   "cell_type": "code",
   "execution_count": 8,
   "id": "b06beb35",
   "metadata": {},
   "outputs": [
    {
     "ename": "ValueError",
     "evalue": "Idaho boundary is not found in the USA dataset.",
     "output_type": "error",
     "traceback": [
      "\u001b[0;31m---------------------------------------------------------------------------\u001b[0m",
      "\u001b[0;31mValueError\u001b[0m                                Traceback (most recent call last)",
      "Cell \u001b[0;32mIn[8], line 18\u001b[0m\n\u001b[1;32m     16\u001b[0m \u001b[38;5;66;03m# Ensure Idaho geometry is valid\u001b[39;00m\n\u001b[1;32m     17\u001b[0m \u001b[38;5;28;01mif\u001b[39;00m idaho\u001b[38;5;241m.\u001b[39mempty:\n\u001b[0;32m---> 18\u001b[0m     \u001b[38;5;28;01mraise\u001b[39;00m \u001b[38;5;167;01mValueError\u001b[39;00m(\u001b[38;5;124m\"\u001b[39m\u001b[38;5;124mIdaho boundary is not found in the USA dataset.\u001b[39m\u001b[38;5;124m\"\u001b[39m)\n\u001b[1;32m     19\u001b[0m idaho \u001b[38;5;241m=\u001b[39m idaho\u001b[38;5;241m.\u001b[39mbuffer(\u001b[38;5;241m0\u001b[39m)  \u001b[38;5;66;03m# Fix any invalid geometries if present\u001b[39;00m\n\u001b[1;32m     21\u001b[0m \u001b[38;5;66;03m# Plot the maps\u001b[39;00m\n",
      "\u001b[0;31mValueError\u001b[0m: Idaho boundary is not found in the USA dataset."
     ]
    }
   ],
   "source": [
    "import geopandas as gpd\n",
    "import matplotlib.pyplot as plt\n",
    "\n",
    "# Load the Reynolds Creek shapefile\n",
    "reynolds_creek = gpd.read_file(shp)\n",
    "\n",
    "# Load the USA boundaries shapefile (from Natural Earth data)\n",
    "usa = gpd.read_file(\"/Users/titus/BSU/remote_sensing/carbon_estimation/code/icesat2/data_prep/ne_110m_admin_0_countries/ne_110m_admin_0_countries.shp\")\n",
    "\n",
    "# Check CRS consistency\n",
    "usa = usa.to_crs(reynolds_creek.crs)\n",
    "\n",
    "# Filter Idaho boundary from the USA geometries\n",
    "idaho = usa[usa['NAME'] == 'Idaho']  # Use the correct column name for state names\n",
    "\n",
    "# Ensure Idaho geometry is valid\n",
    "if idaho.empty:\n",
    "    raise ValueError(\"Idaho boundary is not found in the USA dataset.\")\n",
    "idaho = idaho.buffer(0)  # Fix any invalid geometries if present\n",
    "\n",
    "# Plot the maps\n",
    "fig, axs = plt.subplots(1, 3, figsize=(18, 8), gridspec_kw={'width_ratios': [1, 1, 2]})\n",
    "\n",
    "# --- Plot USA map highlighting Idaho ---\n",
    "axs[0].set_title(\"USA Map with Idaho Highlighted\", fontsize=12)\n",
    "usa.plot(ax=axs[0], color='lightgrey', edgecolor='black', linewidth=0.5)\n",
    "idaho.plot(ax=axs[0], color='blue', edgecolor='black', alpha=0.6, label=\"Idaho\")\n",
    "axs[0].legend(fontsize=8)\n",
    "axs[0].set_aspect(\"equal\")  # Explicit aspect ratio\n",
    "axs[0].axis('off')\n",
    "\n",
    "# --- Plot Idaho map highlighting RCEW ---\n",
    "axs[1].set_title(\"Idaho with Reynolds Creek Highlighted\", fontsize=12)\n",
    "idaho.plot(ax=axs[1], color='lightblue', edgecolor='black')\n",
    "reynolds_creek.plot(ax=axs[1], color='green', edgecolor='black', alpha=0.8, label=\"Reynolds Creek\")\n",
    "axs[1].legend(fontsize=8)\n",
    "axs[1].set_aspect(\"equal\")  # Explicit aspect ratio\n",
    "axs[1].axis('off')\n",
    "\n",
    "# --- Plot zoomed-in Reynolds Creek map ---\n",
    "axs[2].set_title(\"Reynolds Creek Experimental Watershed\", fontsize=12)\n",
    "reynolds_creek.plot(ax=axs[2], color='lightgreen', edgecolor='black', linewidth=0.8)\n",
    "axs[2].grid(True, linestyle='--', linewidth=0.5, alpha=0.6)\n",
    "axs[2].set_aspect(\"equal\")  # Explicit aspect ratio\n",
    "axs[2].axis('on')\n",
    "\n",
    "# Adjust layout and show plot\n",
    "plt.tight_layout()\n",
    "plt.show()\n"
   ]
  },
  {
   "cell_type": "markdown",
   "id": "298868e1-e137-4b7c-8f37-01e82e31c177",
   "metadata": {},
   "source": [
    "##### - Check shapefile crs"
   ]
  },
  {
   "cell_type": "code",
   "execution_count": 24,
   "id": "8f89519c",
   "metadata": {},
   "outputs": [
    {
     "data": {
      "text/plain": [
       "<Geographic 2D CRS: EPSG:4326>\n",
       "Name: WGS 84\n",
       "Axis Info [ellipsoidal]:\n",
       "- Lat[north]: Geodetic latitude (degree)\n",
       "- Lon[east]: Geodetic longitude (degree)\n",
       "Area of Use:\n",
       "- name: World.\n",
       "- bounds: (-180.0, -90.0, 180.0, 90.0)\n",
       "Datum: World Geodetic System 1984 ensemble\n",
       "- Ellipsoid: WGS 84\n",
       "- Prime Meridian: Greenwich"
      ]
     },
     "execution_count": 24,
     "metadata": {},
     "output_type": "execute_result"
    }
   ],
   "source": [
    "## if shapefile.crs is None is false check the crs\n",
    "shapefile.crs"
   ]
  },
  {
   "cell_type": "markdown",
   "id": "f3ffb8cd-befd-4ba4-995f-c7d3b50c8722",
   "metadata": {},
   "source": [
    "##### - Make Geojson"
   ]
  },
  {
   "cell_type": "code",
   "execution_count": 25,
   "id": "ab072225-32ae-449d-a141-8d6b7109d26c",
   "metadata": {},
   "outputs": [],
   "source": [
    "# shapefile.to_file('Sites/RCEW/ROIs/RCEW-outline_WGS84.geojson', driver='GeoJSON')"
   ]
  },
  {
   "cell_type": "code",
   "execution_count": 26,
   "id": "ee133c67",
   "metadata": {},
   "outputs": [],
   "source": [
    "## if shapefile.crs is None is true run this section\n",
    "#crs = 'epsg:8826' # set the starting datum using the epsg code\n",
    "#icesat_crs = 4979 # epsg code for WGS84\n",
    "#shapefile = shapefile.set_crs(crs)\n",
    "#shapefile = shapefile.to_crs(icesat_crs) # transform to WGS84 \n",
    "#shapefile.to_file('/Mores/MCSboundary/MoresBound_WGS84.geojson', driver='GeoJSON')"
   ]
  },
  {
   "cell_type": "code",
   "execution_count": 27,
   "id": "9f0fd1bc",
   "metadata": {},
   "outputs": [],
   "source": [
    "## if shapefile.crs is not WGS84 run this section\n",
    "#icesat_crs = 4979 # epsg code for WGS84\n",
    "#shapefile = shapefile.to_crs(icesat_crs) # transform to WGS84 \n",
    "#shapefile.to_file('/Mores/MCSboundary/MoresBound_WGS84.geojson', driver='GeoJSON')"
   ]
  },
  {
   "cell_type": "markdown",
   "id": "b245490e",
   "metadata": {},
   "source": [
    "#### 2. Read in geojson for Region of Interest"
   ]
  },
  {
   "cell_type": "code",
   "execution_count": 28,
   "id": "d1897d7a",
   "metadata": {},
   "outputs": [
    {
     "data": {
      "text/plain": [
       "[{'lon': -116.799, 'lat': 43.06089},\n",
       " {'lon': -116.7954, 'lat': 43.06089},\n",
       " {'lon': -116.7481, 'lat': 43.06268},\n",
       " {'lon': -116.747, 'lat': 43.06295},\n",
       " {'lon': -116.7411, 'lat': 43.06456},\n",
       " {'lon': -116.7409, 'lat': 43.06469},\n",
       " {'lon': -116.7392, 'lat': 43.06591},\n",
       " {'lon': -116.7379, 'lat': 43.06712},\n",
       " {'lon': -116.7179, 'lat': 43.09706},\n",
       " {'lon': -116.7008, 'lat': 43.12889},\n",
       " {'lon': -116.6963, 'lat': 43.13834},\n",
       " {'lon': -116.696, 'lat': 43.13915},\n",
       " {'lon': -116.6922, 'lat': 43.15454},\n",
       " {'lon': -116.6881, 'lat': 43.22341},\n",
       " {'lon': -116.6881, 'lat': 43.22476},\n",
       " {'lon': -116.6947, 'lat': 43.24693},\n",
       " {'lon': -116.6954, 'lat': 43.24828},\n",
       " {'lon': -116.6958, 'lat': 43.24883},\n",
       " {'lon': -116.702, 'lat': 43.2564},\n",
       " {'lon': -116.7022, 'lat': 43.25654},\n",
       " {'lon': -116.7579, 'lat': 43.2872},\n",
       " {'lon': -116.7605, 'lat': 43.28828},\n",
       " {'lon': -116.7612, 'lat': 43.28856},\n",
       " {'lon': -116.8199, 'lat': 43.31163},\n",
       " {'lon': -116.8251, 'lat': 43.31298},\n",
       " {'lon': -116.8266, 'lat': 43.31218},\n",
       " {'lon': -116.8303, 'lat': 43.31002},\n",
       " {'lon': -116.8305, 'lat': 43.30989},\n",
       " {'lon': -116.8559, 'lat': 43.29223},\n",
       " {'lon': -116.8561, 'lat': 43.29209},\n",
       " {'lon': -116.8564, 'lat': 43.29182},\n",
       " {'lon': -116.8594, 'lat': 43.26859},\n",
       " {'lon': -116.8574, 'lat': 43.2151},\n",
       " {'lon': -116.8563, 'lat': 43.20781},\n",
       " {'lon': -116.8363, 'lat': 43.08162},\n",
       " {'lon': -116.8341, 'lat': 43.07946},\n",
       " {'lon': -116.8319, 'lat': 43.07783},\n",
       " {'lon': -116.8317, 'lat': 43.07769},\n",
       " {'lon': -116.8282, 'lat': 43.07539},\n",
       " {'lon': -116.828, 'lat': 43.07526},\n",
       " {'lon': -116.799, 'lat': 43.06089}]"
      ]
     },
     "execution_count": 28,
     "metadata": {},
     "output_type": "execute_result"
    }
   ],
   "source": [
    "# Specify region of interest from geojson\n",
    "poly_fn = '/Users/titus/BSU/remote_sensing/tutorials/icesat2/karina/RCEW-outline_WGS84.geojson'\n",
    "region = sliderule.toregion(poly_fn)[\"poly\"] # symplify \n",
    "region"
   ]
  },
  {
   "cell_type": "code",
   "execution_count": 29,
   "id": "7e03aa49",
   "metadata": {},
   "outputs": [],
   "source": [
    "# Prepare coordinate lists for plotting the region of interest polygon\n",
    "region_lon = [e[\"lon\"] for e in region]\n",
    "region_lat = [e[\"lat\"] for e in region]"
   ]
  },
  {
   "cell_type": "code",
   "execution_count": 34,
   "id": "b7e4515b",
   "metadata": {},
   "outputs": [
    {
     "name": "stderr",
     "output_type": "stream",
     "text": [
      "/var/folders/fx/2fdk1gcs15x1chhn56kqjpl40000gp/T/ipykernel_7621/2724123891.py:9: UserWarning: No artists with labels found to put in legend.  Note that artists whose label start with an underscore are ignored when legend() is called with no argument.\n",
      "  plt.legend()\n"
     ]
    },
    {
     "data": {
      "image/png": "[encoded data removed]",
      "text/plain": [
       "<Figure size 640x480 with 1 Axes>"
      ]
     },
     "metadata": {},
     "output_type": "display_data"
    }
   ],
   "source": [
    "# Read geojson with geopandas\n",
    "pregion = gpd.read_file(poly_fn)\n",
    "map = pregion.plot(); # plot origonal boundery \n",
    "map.plot(region_lon, region_lat, linewidth=1, color='g'); # plot symplified region boundery for a sanity check\n",
    "plt.title(\"Region of Interest: RCEW\")\n",
    "plt.xlabel(\"longitude\")\n",
    "plt.xticks(rotation=45)\n",
    "plt.ylabel(\"latitude\")\n",
    "plt.legend()\n",
    "plt.show()"
   ]
  },
  {
   "cell_type": "markdown",
   "id": "ef0c01fb",
   "metadata": {},
   "source": [
    "#### 3. Save simplified polygon"
   ]
  },
  {
   "cell_type": "code",
   "execution_count": 11,
   "id": "838867a1",
   "metadata": {},
   "outputs": [
    {
     "data": {
      "text/html": [
       "<div>\n",
       "<style scoped>\n",
       "    .dataframe tbody tr th:only-of-type {\n",
       "        vertical-align: middle;\n",
       "    }\n",
       "\n",
       "    .dataframe tbody tr th {\n",
       "        vertical-align: top;\n",
       "    }\n",
       "\n",
       "    .dataframe thead th {\n",
       "        text-align: right;\n",
       "    }\n",
       "</style>\n",
       "<table border=\"1\" class=\"dataframe\">\n",
       "  <thead>\n",
       "    <tr style=\"text-align: right;\">\n",
       "      <th></th>\n",
       "      <th>geometry</th>\n",
       "    </tr>\n",
       "  </thead>\n",
       "  <tbody>\n",
       "    <tr>\n",
       "      <th>0</th>\n",
       "      <td>POLYGON ((-116.799 43.06089, -116.7954 43.0608...</td>\n",
       "    </tr>\n",
       "  </tbody>\n",
       "</table>\n",
       "</div>"
      ],
      "text/plain": [
       "                                            geometry\n",
       "0  POLYGON ((-116.799 43.06089, -116.7954 43.0608..."
      ]
     },
     "execution_count": 11,
     "metadata": {},
     "output_type": "execute_result"
    }
   ],
   "source": [
    "polygon_geom = Polygon(zip(region_lon, region_lat))\n",
    "crs = 'epsg:4979'\n",
    "polygon = gpd.GeoDataFrame(index=[0], geometry=[polygon_geom])       \n",
    "\n",
    "polygon"
   ]
  },
  {
   "cell_type": "markdown",
   "id": "ccac8cb6-9434-413b-960f-ee0aeb5e5f51",
   "metadata": {},
   "source": [
    "### Save to file if you haven't already"
   ]
  },
  {
   "cell_type": "code",
   "execution_count": 12,
   "id": "3cb564bd",
   "metadata": {},
   "outputs": [],
   "source": [
    "# polygon.to_file('/Users/titus/BSU/remote_sensing/tutorials/icesat2/karina/RCEW-outline_WGS84_simple.geojson', driver='GeoJSON')"
   ]
  },
  {
   "cell_type": "markdown",
   "id": "50f97261",
   "metadata": {},
   "source": [
    "# Sliderule Product processing\n",
    "\n",
    "Follow the processing section for the desired product"
   ]
  },
  {
   "cell_type": "markdown",
   "id": "ab6a059d-943e-4341-a92d-7951ea9be6d6",
   "metadata": {},
   "source": [
    "### ATL03 processing"
   ]
  },
  {
   "cell_type": "markdown",
   "id": "02672b0f-ceca-4a28-9dda-0734550d5b06",
   "metadata": {},
   "source": [
    "#### ATL03 Parameters"
   ]
  },
  {
   "cell_type": "code",
   "execution_count": 17,
   "id": "9792d5b5-4075-4e50-b8b3-bc76e26b6c65",
   "metadata": {},
   "outputs": [],
   "source": [
    "parms = {\n",
    "    \"poly\": region,\n",
    "    \"srt\": 0,\n",
    "    # \"atl08_class\": \"atl08_ground\",\n",
    "    \"cnf\": icesat2.CNF_BACKGROUND, \n",
    "    \"ats\": 20.0,\n",
    "    \"cnt\": 10, \n",
    "    \"len\": 40.0,\n",
    "    \"res\": 20.0,\n",
    "    \"maxi\": 6,\n",
    "    \"t0\": '2021-05-01T00:00:00Z',\n",
    "    \"t1\": '2021-07-31T00:00:00Z',\n",
    "    # all land classification flags\n",
    "    \"atl08_class\": [\"atl08_noise\", \"atl08_ground\", \"atl08_canopy\", \"atl08_top_of_canopy\", \"atl08_unclassified\"], #the photon’s ATL08 classification (0: noise, 1: ground, 2: canopy, 3: top of canopy, 4: unclassified)\n",
    "    \"atl08_fields\": [\"asr\", \"ph_count\"],#, \"gnd_count\", \"veg_count\", \"h_te_median\", \"h_max_canopy\", \"h_min_canopy\", \"h_mean_canopy\", \"h_canopy\", \"canopy_openness\", \"canopy_h_metrics\"],\n",
    "    # all photons\n",
    "    \"yapc\": dict(knn=0, win_h=6, win_x=11, min_ph=4, score=0)\n",
    "}\n",
    "cvs_name = \"/Users/titus/BSU/remote_sensing/carbon_estimation/data/icesat2_data/rcew_icesat2_atl03_may21_jul21.csv\" #set name of the output"
   ]
  },
  {
   "cell_type": "markdown",
   "id": "358b4437",
   "metadata": {},
   "source": [
    "#### Calculate Elevations"
   ]
  },
  {
   "cell_type": "code",
   "execution_count": 18,
   "id": "0fb7b85a-06a2-4d53-805a-6c089c82f921",
   "metadata": {},
   "outputs": [
    {
     "name": "stdout",
     "output_type": "stream",
     "text": [
      "Completed in 3.629 seconds of wall-clock time\n",
      "Received 0 elevations\n"
     ]
    }
   ],
   "source": [
    "# Latch Start Time\n",
    "perf_start = time.perf_counter()\n",
    "\n",
    "# Request ATL06 Data\n",
    "data = icesat2.atl03sp(parm=parms, keep_id=True)\n",
    "\n",
    "# Latch Stop Time\n",
    "perf_stop = time.perf_counter()\n",
    "\n",
    "# Display Statistics\n",
    "perf_duration = perf_stop - perf_start\n",
    "print(\"Completed in {:.3f} seconds of wall-clock time\".format(perf_duration))\n",
    "#print(\"Reference Ground Tracks: {}\".format(atl06_sr[\"rgt\"].unique()))\n",
    "#print(\"Cycles: {}\".format(atl06_sr[\"cycle\"].unique()))\n",
    "print(\"Received {} elevations\".format(data.shape[0]))"
   ]
  },
  {
   "cell_type": "code",
   "execution_count": 19,
   "id": "538d9e06",
   "metadata": {},
   "outputs": [],
   "source": [
    "# data[data[\"extent_id\"] == 2256304266937373687]"
   ]
  },
  {
   "cell_type": "markdown",
   "id": "c8035b51-4b6f-4969-b0e4-d9b7a7e6b416",
   "metadata": {},
   "source": [
    "## Data Check"
   ]
  },
  {
   "cell_type": "code",
   "execution_count": 20,
   "id": "b633ec89",
   "metadata": {},
   "outputs": [
    {
     "data": {
      "text/html": [
       "<div>\n",
       "<style scoped>\n",
       "    .dataframe tbody tr th:only-of-type {\n",
       "        vertical-align: middle;\n",
       "    }\n",
       "\n",
       "    .dataframe tbody tr th {\n",
       "        vertical-align: top;\n",
       "    }\n",
       "\n",
       "    .dataframe thead th {\n",
       "        text-align: right;\n",
       "    }\n",
       "</style>\n",
       "<table border=\"1\" class=\"dataframe\">\n",
       "  <thead>\n",
       "    <tr style=\"text-align: right;\">\n",
       "      <th></th>\n",
       "      <th>geometry</th>\n",
       "      <th>Longitude</th>\n",
       "      <th>Latitude</th>\n",
       "      <th>Easting</th>\n",
       "      <th>Northing</th>\n",
       "    </tr>\n",
       "  </thead>\n",
       "  <tbody>\n",
       "  </tbody>\n",
       "</table>\n",
       "</div>"
      ],
      "text/plain": [
       "Empty GeoDataFrame\n",
       "Columns: [geometry, Longitude, Latitude, Easting, Northing]\n",
       "Index: []"
      ]
     },
     "execution_count": 20,
     "metadata": {},
     "output_type": "execute_result"
    }
   ],
   "source": [
    "#Set utmzone code - utm zone 11:32611\n",
    "utm_code = 'epsg:32611' \n",
    "\n",
    "data['Longitude'] = data['geometry'].x\n",
    "data['Latitude'] = data['geometry'].y\n",
    "eastnorths = data['geometry'].to_crs(utm_code)\n",
    "data['Easting'] = eastnorths.x\n",
    "data['Northing'] = eastnorths.y\n",
    "data"
   ]
  },
  {
   "cell_type": "markdown",
   "id": "f4796ddd-4027-4fdd-b511-4d4daec89e7e",
   "metadata": {},
   "source": [
    "## Write CSV - ATL03"
   ]
  },
  {
   "cell_type": "markdown",
   "id": "065f075a-d7cc-4201-b0d1-b8cf8b233dd1",
   "metadata": {},
   "source": [
    "#### filter to summer months"
   ]
  },
  {
   "cell_type": "code",
   "execution_count": 16,
   "id": "3198800e-2d76-4f10-9505-b0cda3508e79",
   "metadata": {},
   "outputs": [],
   "source": [
    "import datetime "
   ]
  },
  {
   "cell_type": "code",
   "execution_count": null,
   "id": "1cd99757-67c0-4ba5-889a-b273089bef73",
   "metadata": {},
   "outputs": [],
   "source": [
    "data['Date'] = pd.to_datetime(data.index)\n",
    "# data = data[(data['Date'].dt.month >= 5) & (data['Date'].dt.month <= 9)]\n",
    "# data[1:6]"
   ]
  },
  {
   "cell_type": "code",
   "execution_count": 18,
   "id": "c796bf3a-9761-4e68-82f7-9d6808c6526f",
   "metadata": {},
   "outputs": [
    {
     "data": {
      "text/html": [
       "<div>\n",
       "<style scoped>\n",
       "    .dataframe tbody tr th:only-of-type {\n",
       "        vertical-align: middle;\n",
       "    }\n",
       "\n",
       "    .dataframe tbody tr th {\n",
       "        vertical-align: top;\n",
       "    }\n",
       "\n",
       "    .dataframe thead th {\n",
       "        text-align: right;\n",
       "    }\n",
       "</style>\n",
       "<table border=\"1\" class=\"dataframe\">\n",
       "  <thead>\n",
       "    <tr style=\"text-align: right;\">\n",
       "      <th></th>\n",
       "      <th>X</th>\n",
       "      <th>Y</th>\n",
       "      <th>Z</th>\n",
       "      <th>rgt</th>\n",
       "    </tr>\n",
       "    <tr>\n",
       "      <th>time</th>\n",
       "      <th></th>\n",
       "      <th></th>\n",
       "      <th></th>\n",
       "      <th></th>\n",
       "    </tr>\n",
       "  </thead>\n",
       "  <tbody>\n",
       "    <tr>\n",
       "      <th>2021-05-23 01:47:15.202137344</th>\n",
       "      <td>519746.413226</td>\n",
       "      <td>4.767772e+06</td>\n",
       "      <td>2285.228271</td>\n",
       "      <td>905</td>\n",
       "    </tr>\n",
       "    <tr>\n",
       "      <th>2021-05-23 01:47:15.202137344</th>\n",
       "      <td>519731.651653</td>\n",
       "      <td>4.767774e+06</td>\n",
       "      <td>1409.943481</td>\n",
       "      <td>905</td>\n",
       "    </tr>\n",
       "    <tr>\n",
       "      <th>2021-05-23 01:47:15.202137344</th>\n",
       "      <td>519731.607092</td>\n",
       "      <td>4.767774e+06</td>\n",
       "      <td>1407.301758</td>\n",
       "      <td>905</td>\n",
       "    </tr>\n",
       "    <tr>\n",
       "      <th>2021-05-23 01:47:15.202137344</th>\n",
       "      <td>519732.776858</td>\n",
       "      <td>4.767774e+06</td>\n",
       "      <td>1476.653687</td>\n",
       "      <td>905</td>\n",
       "    </tr>\n",
       "    <tr>\n",
       "      <th>2021-05-23 01:47:15.202137344</th>\n",
       "      <td>519735.321417</td>\n",
       "      <td>4.767773e+06</td>\n",
       "      <td>1627.518799</td>\n",
       "      <td>905</td>\n",
       "    </tr>\n",
       "    <tr>\n",
       "      <th>...</th>\n",
       "      <td>...</td>\n",
       "      <td>...</td>\n",
       "      <td>...</td>\n",
       "      <td>...</td>\n",
       "    </tr>\n",
       "    <tr>\n",
       "      <th>2021-07-26 10:58:40.421562368</th>\n",
       "      <td>516386.659587</td>\n",
       "      <td>4.767597e+06</td>\n",
       "      <td>1933.636841</td>\n",
       "      <td>501</td>\n",
       "    </tr>\n",
       "    <tr>\n",
       "      <th>2021-07-26 10:58:40.421662464</th>\n",
       "      <td>516383.620890</td>\n",
       "      <td>4.767596e+06</td>\n",
       "      <td>2079.876465</td>\n",
       "      <td>501</td>\n",
       "    </tr>\n",
       "    <tr>\n",
       "      <th>2021-07-26 10:58:40.422062336</th>\n",
       "      <td>516383.308067</td>\n",
       "      <td>4.767593e+06</td>\n",
       "      <td>2079.514893</td>\n",
       "      <td>501</td>\n",
       "    </tr>\n",
       "    <tr>\n",
       "      <th>2021-07-26 10:58:40.422162432</th>\n",
       "      <td>516383.211757</td>\n",
       "      <td>4.767592e+06</td>\n",
       "      <td>2079.527344</td>\n",
       "      <td>501</td>\n",
       "    </tr>\n",
       "    <tr>\n",
       "      <th>2021-07-26 10:58:40.422362624</th>\n",
       "      <td>516383.031312</td>\n",
       "      <td>4.767591e+06</td>\n",
       "      <td>2080.644775</td>\n",
       "      <td>501</td>\n",
       "    </tr>\n",
       "  </tbody>\n",
       "</table>\n",
       "<p>6662432 rows × 4 columns</p>\n",
       "</div>"
      ],
      "text/plain": [
       "                                           X             Y            Z  rgt\n",
       "time                                                                        \n",
       "2021-05-23 01:47:15.202137344  519746.413226  4.767772e+06  2285.228271  905\n",
       "2021-05-23 01:47:15.202137344  519731.651653  4.767774e+06  1409.943481  905\n",
       "2021-05-23 01:47:15.202137344  519731.607092  4.767774e+06  1407.301758  905\n",
       "2021-05-23 01:47:15.202137344  519732.776858  4.767774e+06  1476.653687  905\n",
       "2021-05-23 01:47:15.202137344  519735.321417  4.767773e+06  1627.518799  905\n",
       "...                                      ...           ...          ...  ...\n",
       "2021-07-26 10:58:40.421562368  516386.659587  4.767597e+06  1933.636841  501\n",
       "2021-07-26 10:58:40.421662464  516383.620890  4.767596e+06  2079.876465  501\n",
       "2021-07-26 10:58:40.422062336  516383.308067  4.767593e+06  2079.514893  501\n",
       "2021-07-26 10:58:40.422162432  516383.211757  4.767592e+06  2079.527344  501\n",
       "2021-07-26 10:58:40.422362624  516383.031312  4.767591e+06  2080.644775  501\n",
       "\n",
       "[6662432 rows x 4 columns]"
      ]
     },
     "execution_count": 18,
     "metadata": {},
     "output_type": "execute_result"
    }
   ],
   "source": [
    "data_xyz = pd.DataFrame()\n",
    "\n",
    "data_xyz['X'] = data['Easting']\n",
    "data_xyz['Y'] = data['Northing']\n",
    "data_xyz['Z'] = data['height']\n",
    "data_xyz['rgt'] = data['rgt']\n",
    "data_xyz['time'] = data['Date']\n",
    "\n",
    "data_xyz = data_xyz.set_index('time')\n",
    "data_xyz"
   ]
  },
  {
   "cell_type": "markdown",
   "id": "c037686c-3835-4b54-9f60-54d35d7ea93c",
   "metadata": {},
   "source": [
    "#### Write CSV"
   ]
  },
  {
   "cell_type": "code",
   "execution_count": null,
   "id": "f296e650-3d22-440f-a0ef-c373e111f20d",
   "metadata": {},
   "outputs": [],
   "source": [
    "# cvs_name = \"/Users/titus/BSU/remote_sensing/carbon_estimation/data/icesat2_data/rcew_icesat2_atl03_may21_jul21_new.csv\"\n",
    "# data.to_csv(cvs_name)"
   ]
  },
  {
   "cell_type": "markdown",
   "id": "4a6e1c1f-8c65-4cbe-af8d-d996f2a8e555",
   "metadata": {},
   "source": [
    "#### Write to geojson"
   ]
  },
  {
   "cell_type": "code",
   "execution_count": null,
   "id": "12914591",
   "metadata": {},
   "outputs": [
    {
     "data": {
      "text/plain": [
       "'/Users/titus/BSU/remote_sensing/carbon_estimation/data/icesat2_data/rcew_icesat2_atl03_may21_jul21_new.geojson'"
      ]
     },
     "execution_count": 18,
     "metadata": {},
     "output_type": "execute_result"
    }
   ],
   "source": [
    "# outName = cvs_name.replace('.csv', '.geojson')  # Create an output file name using the input file name\n",
    "# outName"
   ]
  },
  {
   "cell_type": "code",
   "execution_count": null,
   "id": "4a4646f9",
   "metadata": {},
   "outputs": [],
   "source": [
    "# data.to_file(outName, driver='GeoJSON')  # Export to GeoJSON"
   ]
  },
  {
   "cell_type": "code",
   "execution_count": null,
   "id": "0f349022",
   "metadata": {},
   "outputs": [],
   "source": [
    "# https://www.google.com/search?sca_esv=a9478bc663a38991&sxsrf=ADLYWIKWZM4JM8vb3Jd92AaiaLxzWpIr7w:1733598520882&q=reynolds+creek&udm=2&fbs=AEQNm0Aa4sjWe7Rqy32pFwRj0UkW1DRbm01j6DCVS0r1sTxn7h_rt6mVhwDmwtd3hPZjM8yExIiDaiXmTUfySTHDiZj3UTG80EwhSyTroYFQj8tF7zcMoE0nv4MRgKjnjU6XL0Bjk1Svlhd4nn4UkKwmovIsZpLcMeV9jSKK5Rv4VPkDgkOC4Xh5VJHjvxxiXdS4M2HmJBUw6WBbL57pSPurSR8M88tK1w&sa=X&sqi=2&ved=2ahUKEwiHwJTgrZaKAxWUAjQIHSYYAVcQtKgLegQIFBAB&biw=1600&bih=838&dpr=1.8#imgrc=ItWx4oFl66r4-M&imgdii=KhDDaBxMccWF8M\n",
    "\n"
   ]
  }
 ],
 "metadata": {
  "kernelspec": {
   "display_name": "carbon",
   "language": "python",
   "name": "python3"
  },
  "language_info": {
   "codemirror_mode": {
    "name": "ipython",
    "version": 3
   },
   "file_extension": ".py",
   "mimetype": "text/x-python",
   "name": "python",
   "nbconvert_exporter": "python",
   "pygments_lexer": "ipython3",
   "version": "3.10.15"
  }
 },
 "nbformat": 4,
 "nbformat_minor": 5
}
