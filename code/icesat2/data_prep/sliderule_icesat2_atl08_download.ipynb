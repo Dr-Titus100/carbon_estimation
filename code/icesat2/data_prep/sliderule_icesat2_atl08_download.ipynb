{
 "cells": [
  {
   "cell_type": "markdown",
   "id": "adec21b9",
   "metadata": {},
   "source": [
    "## ICESat-2 SlideRule Download\n",
    "\n",
    "This code is adapted from Sliderule Python example code. It is designed to calculate ATL06 elevations from ALT03 points and save those elevations as a CSV. \n",
    "\n",
    "Activate the sliderule_env enviroment to run\n",
    "\n",
    "Last updated by Karina Zikan July 2023"
   ]
  },
  {
   "cell_type": "code",
   "execution_count": 26,
   "id": "2c4a16f4",
   "metadata": {},
   "outputs": [],
   "source": [
    "import sys\n",
    "import logging\n",
    "import concurrent.futures\n",
    "import time\n",
    "from datetime import datetime\n",
    "import pandas as pd\n",
    "import geopandas as gpd\n",
    "import matplotlib.pyplot as plt\n",
    "from pyproj import Transformer, CRS\n",
    "from shapely.geometry import Polygon, Point\n",
    "from sliderule import sliderule, icesat2, earthdata, h5"
   ]
  },
  {
   "cell_type": "markdown",
   "id": "9af7ad61",
   "metadata": {},
   "source": [
    "## SlideRule Configuration"
   ]
  },
  {
   "cell_type": "code",
   "execution_count": 27,
   "id": "f01cf9d3",
   "metadata": {},
   "outputs": [],
   "source": [
    "# Configure ICESat-2 API\n",
    "icesat2.init(\"slideruleearth.io\", verbose=False)"
   ]
  },
  {
   "cell_type": "markdown",
   "id": "4da5abf9",
   "metadata": {},
   "source": [
    "## Specify Region of Interest"
   ]
  },
  {
   "cell_type": "markdown",
   "id": "df0dd474",
   "metadata": {},
   "source": [
    "#### 1. Make geojson from shapefile - if you have a geojson of the region skip to 2."
   ]
  },
  {
   "cell_type": "code",
   "execution_count": 28,
   "id": "7be0c803",
   "metadata": {},
   "outputs": [
    {
     "data": {
      "text/plain": [
       "False"
      ]
     },
     "execution_count": 28,
     "metadata": {},
     "output_type": "execute_result"
    }
   ],
   "source": [
    "# Specify region of interest shapefile\n",
    "shp = \"/Users/titus/BSU/remote_sensing/carbon_estimation/shapefiles/RCEW-outline_WGS84.shp\"\n",
    "shapefile = gpd.read_file(shp)\n",
    "# shapefile.to_file('/Users/titus/BSU/remote_sensing/tutorials/icesat2/karina/boundDCEW_WGS84.geojson', driver='GeoJSON')\n",
    "shapefile.crs is None"
   ]
  },
  {
   "cell_type": "markdown",
   "id": "298868e1-e137-4b7c-8f37-01e82e31c177",
   "metadata": {},
   "source": [
    "##### - Check shapefile crs"
   ]
  },
  {
   "cell_type": "code",
   "execution_count": 29,
   "id": "8f89519c",
   "metadata": {},
   "outputs": [
    {
     "data": {
      "text/plain": [
       "<Geographic 2D CRS: EPSG:4326>\n",
       "Name: WGS 84\n",
       "Axis Info [ellipsoidal]:\n",
       "- Lat[north]: Geodetic latitude (degree)\n",
       "- Lon[east]: Geodetic longitude (degree)\n",
       "Area of Use:\n",
       "- name: World.\n",
       "- bounds: (-180.0, -90.0, 180.0, 90.0)\n",
       "Datum: World Geodetic System 1984 ensemble\n",
       "- Ellipsoid: WGS 84\n",
       "- Prime Meridian: Greenwich"
      ]
     },
     "execution_count": 29,
     "metadata": {},
     "output_type": "execute_result"
    }
   ],
   "source": [
    "## if shapefile.crs is None is false check the crs\n",
    "shapefile.crs"
   ]
  },
  {
   "cell_type": "markdown",
   "id": "f3ffb8cd-befd-4ba4-995f-c7d3b50c8722",
   "metadata": {},
   "source": [
    "##### - Make Geojson"
   ]
  },
  {
   "cell_type": "code",
   "execution_count": 30,
   "id": "ab072225-32ae-449d-a141-8d6b7109d26c",
   "metadata": {},
   "outputs": [],
   "source": [
    "# shapefile.to_file('/Users/titus/BSU/remote_sensing/tutorials/icesat2/karina/RCEW-outline_WGS84.geojson', driver='GeoJSON')"
   ]
  },
  {
   "cell_type": "code",
   "execution_count": 31,
   "id": "ee133c67",
   "metadata": {},
   "outputs": [],
   "source": [
    "## if shapefile.crs is None is true run this section\n",
    "#crs = 'epsg:8826' # set the starting datum using the epsg code\n",
    "#icesat_crs = 4979 # epsg code for WGS84\n",
    "#shapefile = shapefile.set_crs(crs)\n",
    "#shapefile = shapefile.to_crs(icesat_crs) # transform to WGS84 \n",
    "#shapefile.to_file('/Mores/MCSboundary/MoresBound_WGS84.geojson', driver='GeoJSON')"
   ]
  },
  {
   "cell_type": "code",
   "execution_count": 32,
   "id": "9f0fd1bc",
   "metadata": {},
   "outputs": [],
   "source": [
    "## if shapefile.crs is not WGS84 run this section\n",
    "#icesat_crs = 4979 # epsg code for WGS84\n",
    "#shapefile = shapefile.to_crs(icesat_crs) # transform to WGS84 \n",
    "#shapefile.to_file('/Mores/MCSboundary/MoresBound_WGS84.geojson', driver='GeoJSON')"
   ]
  },
  {
   "cell_type": "markdown",
   "id": "b245490e",
   "metadata": {},
   "source": [
    "#### 2. Read in geojson for Region of Interest"
   ]
  },
  {
   "cell_type": "code",
   "execution_count": 33,
   "id": "d1897d7a",
   "metadata": {},
   "outputs": [
    {
     "data": {
      "text/plain": [
       "[{'lon': -116.799, 'lat': 43.06089},\n",
       " {'lon': -116.7954, 'lat': 43.06089},\n",
       " {'lon': -116.7481, 'lat': 43.06268},\n",
       " {'lon': -116.747, 'lat': 43.06295},\n",
       " {'lon': -116.7411, 'lat': 43.06456},\n",
       " {'lon': -116.7409, 'lat': 43.06469},\n",
       " {'lon': -116.7392, 'lat': 43.06591},\n",
       " {'lon': -116.7379, 'lat': 43.06712},\n",
       " {'lon': -116.7179, 'lat': 43.09706},\n",
       " {'lon': -116.7008, 'lat': 43.12889},\n",
       " {'lon': -116.6963, 'lat': 43.13834},\n",
       " {'lon': -116.696, 'lat': 43.13915},\n",
       " {'lon': -116.6922, 'lat': 43.15454},\n",
       " {'lon': -116.6881, 'lat': 43.22341},\n",
       " {'lon': -116.6881, 'lat': 43.22476},\n",
       " {'lon': -116.6947, 'lat': 43.24693},\n",
       " {'lon': -116.6954, 'lat': 43.24828},\n",
       " {'lon': -116.6958, 'lat': 43.24883},\n",
       " {'lon': -116.702, 'lat': 43.2564},\n",
       " {'lon': -116.7022, 'lat': 43.25654},\n",
       " {'lon': -116.7579, 'lat': 43.2872},\n",
       " {'lon': -116.7605, 'lat': 43.28828},\n",
       " {'lon': -116.7612, 'lat': 43.28856},\n",
       " {'lon': -116.8199, 'lat': 43.31163},\n",
       " {'lon': -116.8251, 'lat': 43.31298},\n",
       " {'lon': -116.8266, 'lat': 43.31218},\n",
       " {'lon': -116.8303, 'lat': 43.31002},\n",
       " {'lon': -116.8305, 'lat': 43.30989},\n",
       " {'lon': -116.8559, 'lat': 43.29223},\n",
       " {'lon': -116.8561, 'lat': 43.29209},\n",
       " {'lon': -116.8564, 'lat': 43.29182},\n",
       " {'lon': -116.8594, 'lat': 43.26859},\n",
       " {'lon': -116.8574, 'lat': 43.2151},\n",
       " {'lon': -116.8563, 'lat': 43.20781},\n",
       " {'lon': -116.8363, 'lat': 43.08162},\n",
       " {'lon': -116.8341, 'lat': 43.07946},\n",
       " {'lon': -116.8319, 'lat': 43.07783},\n",
       " {'lon': -116.8317, 'lat': 43.07769},\n",
       " {'lon': -116.8282, 'lat': 43.07539},\n",
       " {'lon': -116.828, 'lat': 43.07526},\n",
       " {'lon': -116.799, 'lat': 43.06089}]"
      ]
     },
     "execution_count": 33,
     "metadata": {},
     "output_type": "execute_result"
    }
   ],
   "source": [
    "# Specify region of interest from geojson\n",
    "poly_fn = '/Users/titus/BSU/remote_sensing/tutorials/icesat2/karina/RCEW-outline_WGS84.geojson'\n",
    "region = sliderule.toregion(poly_fn)[\"poly\"] # symplify \n",
    "region\n",
    "# poly_fn"
   ]
  },
  {
   "cell_type": "code",
   "execution_count": 34,
   "id": "6a853436",
   "metadata": {},
   "outputs": [
    {
     "data": {
      "text/plain": [
       "[(43.06089, -116.799),\n",
       " (43.06089, -116.7954),\n",
       " (43.06268, -116.7481),\n",
       " (43.06295, -116.747),\n",
       " (43.06456, -116.7411),\n",
       " (43.06469, -116.7409),\n",
       " (43.06591, -116.7392),\n",
       " (43.06712, -116.7379),\n",
       " (43.09706, -116.7179),\n",
       " (43.12889, -116.7008),\n",
       " (43.13834, -116.6963),\n",
       " (43.13915, -116.696),\n",
       " (43.15454, -116.6922),\n",
       " (43.22341, -116.6881),\n",
       " (43.22476, -116.6881),\n",
       " (43.24693, -116.6947),\n",
       " (43.24828, -116.6954),\n",
       " (43.24883, -116.6958),\n",
       " (43.2564, -116.702),\n",
       " (43.25654, -116.7022),\n",
       " (43.2872, -116.7579),\n",
       " (43.28828, -116.7605),\n",
       " (43.28856, -116.7612),\n",
       " (43.31163, -116.8199),\n",
       " (43.31298, -116.8251),\n",
       " (43.31218, -116.8266),\n",
       " (43.31002, -116.8303),\n",
       " (43.30989, -116.8305),\n",
       " (43.29223, -116.8559),\n",
       " (43.29209, -116.8561),\n",
       " (43.29182, -116.8564),\n",
       " (43.26859, -116.8594),\n",
       " (43.2151, -116.8574),\n",
       " (43.20781, -116.8563),\n",
       " (43.08162, -116.8363),\n",
       " (43.07946, -116.8341),\n",
       " (43.07783, -116.8319),\n",
       " (43.07769, -116.8317),\n",
       " (43.07539, -116.8282),\n",
       " (43.07526, -116.828),\n",
       " (43.06089, -116.799)]"
      ]
     },
     "execution_count": 34,
     "metadata": {},
     "output_type": "execute_result"
    }
   ],
   "source": [
    "# Prepare coordinate lists for plotting the region of interest polygon\n",
    "region_lon = [e[\"lon\"] for e in region]\n",
    "region_lat = [e[\"lat\"] for e in region]\n",
    "region_lon\n",
    "# print(region_lat)\n",
    "gg = []\n",
    "for i in range(len(region_lon)):\n",
    "    gg.append((region_lat[i], region_lon[i]))\n",
    "    \n",
    "gg"
   ]
  },
  {
   "cell_type": "code",
   "execution_count": 35,
   "id": "2fe44ee9",
   "metadata": {},
   "outputs": [],
   "source": [
    "# from ipyleaflet import Map, Polygon\n",
    "\n",
    "# polygon = Polygon(\n",
    "#     locations=gg,\n",
    "#     color=\"green\",\n",
    "#     fill_color=\"green\"\n",
    "# )\n",
    "\n",
    "# m = Map(center=(43.17, -116.51), zoom=9)\n",
    "# m.add(polygon);\n",
    "\n",
    "# m"
   ]
  },
  {
   "cell_type": "code",
   "execution_count": 36,
   "id": "b7e4515b",
   "metadata": {},
   "outputs": [
    {
     "data": {
      "text/plain": [
       "<Figure size 800x1200 with 0 Axes>"
      ]
     },
     "metadata": {},
     "output_type": "display_data"
    },
    {
     "data": {
      "image/png": "[encoded data removed]",
      "text/plain": [
       "<Figure size 640x480 with 1 Axes>"
      ]
     },
     "metadata": {},
     "output_type": "display_data"
    }
   ],
   "source": [
    "# Read geojson with geopandas\n",
    "plt.figure(figsize=(8,12))\n",
    "pregion = gpd.read_file(poly_fn)\n",
    "map = pregion.plot(label = \"original\"); # plot origonal boundery \n",
    "map.plot(region_lon, region_lat, linewidth=1, color='g', label = \"symplified\"); # plot symplified region boundary for a sanity check\n",
    "plt.legend(fontsize=6, loc=\"upper right\")\n",
    "plt.xticks(rotation=60)\n",
    "plt.show()"
   ]
  },
  {
   "cell_type": "markdown",
   "id": "ef0c01fb",
   "metadata": {},
   "source": [
    "#### 3. Save simplified polygon"
   ]
  },
  {
   "cell_type": "code",
   "execution_count": 37,
   "id": "838867a1",
   "metadata": {},
   "outputs": [
    {
     "data": {
      "text/html": [
       "<div>\n",
       "<style scoped>\n",
       "    .dataframe tbody tr th:only-of-type {\n",
       "        vertical-align: middle;\n",
       "    }\n",
       "\n",
       "    .dataframe tbody tr th {\n",
       "        vertical-align: top;\n",
       "    }\n",
       "\n",
       "    .dataframe thead th {\n",
       "        text-align: right;\n",
       "    }\n",
       "</style>\n",
       "<table border=\"1\" class=\"dataframe\">\n",
       "  <thead>\n",
       "    <tr style=\"text-align: right;\">\n",
       "      <th></th>\n",
       "      <th>geometry</th>\n",
       "    </tr>\n",
       "  </thead>\n",
       "  <tbody>\n",
       "    <tr>\n",
       "      <th>0</th>\n",
       "      <td>POLYGON ((-116.799 43.06089, -116.7954 43.0608...</td>\n",
       "    </tr>\n",
       "  </tbody>\n",
       "</table>\n",
       "</div>"
      ],
      "text/plain": [
       "                                            geometry\n",
       "0  POLYGON ((-116.799 43.06089, -116.7954 43.0608..."
      ]
     },
     "execution_count": 37,
     "metadata": {},
     "output_type": "execute_result"
    }
   ],
   "source": [
    "polygon_geom = Polygon(zip(region_lon, region_lat))\n",
    "crs = 'epsg:4979'\n",
    "polygon = gpd.GeoDataFrame(index=[0], geometry=[polygon_geom])       \n",
    "\n",
    "polygon"
   ]
  },
  {
   "cell_type": "markdown",
   "id": "ccac8cb6-9434-413b-960f-ee0aeb5e5f51",
   "metadata": {},
   "source": [
    "### Save to file if you haven't already"
   ]
  },
  {
   "cell_type": "code",
   "execution_count": 38,
   "id": "3cb564bd",
   "metadata": {},
   "outputs": [],
   "source": [
    "# polygon.to_file('/Users/titus/BSU/remote_sensing/tutorials/icesat2/karina/RCEW-outline_WGS84_simple.geojson', driver='GeoJSON')"
   ]
  },
  {
   "cell_type": "markdown",
   "id": "50f97261",
   "metadata": {},
   "source": [
    "# Sliderule Product processing\n",
    "\n",
    "Follow the processing section for the desired product"
   ]
  },
  {
   "cell_type": "markdown",
   "id": "7f339266-a0bf-4e9c-aecd-5f994de53118",
   "metadata": {},
   "source": [
    "### - ATL08 and ATL08_classified processing \n",
    "\n",
    "Choose ATL08 or ATL08_clssified parameters depending on what product you are downloading"
   ]
  },
  {
   "cell_type": "markdown",
   "id": "5378c061-957b-4569-a3ed-9443312b3e07",
   "metadata": {},
   "source": [
    "#### ATL08 Parameters"
   ]
  },
  {
   "cell_type": "code",
   "execution_count": 60,
   "id": "31c5d508",
   "metadata": {},
   "outputs": [],
   "source": [
    "parms = {\n",
    "    \"poly\": region, # polygon defining region of interest \n",
    "    \"srt\": 0, # surface type: 0-land, 1-ocean, 2-sea ice, 3-land ice, 4-inland water\n",
    "    # \"atl08_class\": \"atl08_ground\", # list of ATL08 classifications used to select which photons are used in the processing (the available classifications are: “atl08_noise”, “atl08_ground”, “atl08_canopy”, “atl08_top_of_canopy”, “atl08_unclassified”)\n",
    "    \"cnf\": icesat2.CNF_BACKGROUND, #0, # icesat2.CNF_SURFACE_HIGH, # confidence level for photon selection, can be supplied as a single value or a list\n",
    "    \"ats\": 20.0, # minimum along track spread\n",
    "    \"cnt\": 10, # minimum photon count in segment\n",
    "    \"len\": 40.0, # length of each extent in meters\n",
    "    \"res\": 20.0, # step distance for successive extents in meters\n",
    "    \"maxi\": 6, # maximum iterations, not including initial least-squares-fit selection\n",
    "    \"atl03_ph_fields\": [\"pce_mframe_cnt\"],\n",
    "    \"atl03_geo_fields\": [\"solar_elevation\"],\n",
    "    \"atl08_fields\": [\"asr%\"],\n",
    "    \"t0\": '2021-05-01T00:00:00Z',\n",
    "    \"t1\": '2021-07-31T00:00:00Z',\n",
    "    # all land classification flags\n",
    "    \"atl08_class\": [\"atl08_noise\", \"atl08_ground\", \"atl08_canopy\", \"atl08_top_of_canopy\", \"atl08_unclassified\"], #the photon’s ATL08 classification (0: noise, 1: ground, 2: canopy, 3: top of canopy, 4: unclassified)\n",
    "    # all photons\n",
    "    \"yapc\": dict(knn=0, win_h=6, win_x=11, min_ph=4, score=0)\n",
    "}\n",
    "\n",
    "# parms = {\n",
    "#     \"poly\": region, # polygon defining region of interest \n",
    "#     \"srt\": 0, # surface type: 0-land, 1-ocean, 2-sea ice, 3-land ice, 4-inland water\n",
    "#     \"atl08_class\": \"atl08_ground\", #list of ATL08 classifications used to select which photons are used in the processing (the available classifications are: “atl08_noise”, “atl08_ground”, “atl08_canopy”, “atl08_top_of_canopy”, “atl08_unclassified”)\n",
    "#     \"cnf\": 0 # icesat2.CNF_SURFACE_HIGH, # confidence level for photon selection, can be supplied as a single value or a list\n",
    "#     \"ats\": 10.0, # minimum along track spread\n",
    "#     \"cnt\": 5, # minimum photon count in segment\n",
    "#     \"len\": 20.0, # length of each extent in meters\n",
    "#     \"res\": 20.0, # step distance for successive extents in meters\n",
    "#     \"maxi\": 6, # maximum iterations, not including initial least-squares-fit selection\n",
    "#     \"atl03_ph_fields\": [\"pce_mframe_cnt\"],\n",
    "#     \"atl03_geo_fields\": [\"solar_elevation\"],\n",
    "#     \"atl08_fields\": [\"asr\"]\n",
    "# }\n",
    "\n",
    "cvs_name = \"/Users/titus/BSU/remote_sensing/carbon_estimation/data/icesat2_data/rcew_icesat2_atl08sr_may21_jul21.csv\" #set name of the output"
   ]
  },
  {
   "cell_type": "markdown",
   "id": "f20717b5-5291-41b4-9b69-9de606019996",
   "metadata": {},
   "source": [
    "#### ATL08_classified Parameters"
   ]
  },
  {
   "cell_type": "code",
   "execution_count": 61,
   "id": "2899c941-df09-43e1-893f-184264c12cc9",
   "metadata": {},
   "outputs": [],
   "source": [
    "# parms = {\n",
    "#     \"poly\": region,\n",
    "#     \"srt\": 0,\n",
    "#     \"atl08_class\": \"atl08_ground\", # list of ATL08 classifications used to select which photons are used in the processing (the available classifications are: “atl08_noise”, “atl08_ground”, “atl08_canopy”, “atl08_top_of_canopy”, “atl08_unclassified”)\n",
    "#     \"cnf\": 0, # icesat2.CNF_BACKGROUND, \n",
    "#     \"ats\": 20.0,\n",
    "#     \"cnt\": 10,\n",
    "#     \"len\": 40.0,\n",
    "#     \"res\": 20.0,\n",
    "#     \"maxi\": 6,\n",
    "#     \"atl03_ph_fields\": [\"pce_mframe_cnt\"],\n",
    "#     \"atl03_geo_fields\": [\"solar_elevation\"],\n",
    "#     \"atl08_fields\": [\"asr\"]\n",
    "# }\n",
    "# cvs_name = \"/Users/titus/BSU/remote_sensing/tutorials/icesat2/karina/RCEW-ICESat2-ATL08sr-atl08class.csv\" #set name of the output"
   ]
  },
  {
   "cell_type": "markdown",
   "id": "643067ae-0ff8-4f07-bdc5-357fcf44a0de",
   "metadata": {},
   "source": [
    "#### Calculate Elevations"
   ]
  },
  {
   "cell_type": "code",
   "execution_count": 62,
   "id": "aa64d478",
   "metadata": {},
   "outputs": [
    {
     "name": "stdout",
     "output_type": "stream",
     "text": [
      "Completed in 4.918 seconds of wall-clock time\n",
      "Received 15915 elevations\n"
     ]
    }
   ],
   "source": [
    "# Latch Start Time\n",
    "perf_start = time.perf_counter()\n",
    "\n",
    "# Request ATL08 Data\n",
    "data = icesat2.atl08p(parm=parms, keep_id=True)\n",
    "\n",
    "# Latch Stop Time\n",
    "perf_stop = time.perf_counter()\n",
    "\n",
    "# Display Statistics\n",
    "perf_duration = perf_stop - perf_start\n",
    "print(\"Completed in {:.3f} seconds of wall-clock time\".format(perf_duration))\n",
    "#print(\"Reference Ground Tracks: {}\".format(atl08_sr[\"rgt\"].unique()))\n",
    "#print(\"Cycles: {}\".format(atl08_sr[\"cycle\"].unique()))\n",
    "print(\"Received {} elevations\".format(data.shape[0]))"
   ]
  },
  {
   "cell_type": "markdown",
   "id": "c7c141ca",
   "metadata": {},
   "source": [
    "## Plot ATL08 Results "
   ]
  },
  {
   "cell_type": "code",
   "execution_count": 63,
   "id": "6800cb28",
   "metadata": {},
   "outputs": [
    {
     "name": "stderr",
     "output_type": "stream",
     "text": [
      "/var/folders/fx/2fdk1gcs15x1chhn56kqjpl40000gp/T/ipykernel_3362/3873127791.py:6: UserWarning: No artists with labels found to put in legend.  Note that artists whose label start with an underscore are ignored when legend() is called with no argument.\n",
      "  plt.legend(fontsize=6, loc=\"upper right\")\n"
     ]
    },
    {
     "data": {
      "image/png": "[encoded data removed]",
      "text/plain": [
       "<Figure size 640x480 with 1 Axes>"
      ]
     },
     "metadata": {},
     "output_type": "display_data"
    }
   ],
   "source": [
    "f, ax = plt.subplots()\n",
    "ax.set_title(\"ICESat-2 Points\")\n",
    "ax.set_aspect('equal')\n",
    "data.plot(ax=ax, column='h_mean_canopy', cmap='inferno', s=0.1)\n",
    "ax.plot(region_lon, region_lat, linewidth=1, color='g');\n",
    "plt.legend(fontsize=6, loc=\"upper right\")\n",
    "plt.xticks(rotation=60)\n",
    "plt.show()"
   ]
  },
  {
   "cell_type": "markdown",
   "id": "c8035b51-4b6f-4969-b0e4-d9b7a7e6b416",
   "metadata": {},
   "source": [
    "## Data Check"
   ]
  },
  {
   "cell_type": "code",
   "execution_count": 64,
   "id": "c86ef29c",
   "metadata": {},
   "outputs": [
    {
     "data": {
      "text/plain": [
       "Index(['cycle', 'gnd_ph_count', 'gt', 'extent_id', 'spot', 'solar_elevation_x',\n",
       "       'h_max_canopy', 'rgt', 'h_mean_canopy', 'h_min_canopy', 'landcover',\n",
       "       'x_atc', 'snowcover', 'veg_ph_count', 'ph_count', 'h_canopy',\n",
       "       'canopy_h_metrics', 'canopy_openness', 'h_te_median', 'segment_id',\n",
       "       'geometry', 'pce_mframe_cnt', 'solar_elevation_y', 'asr%'],\n",
       "      dtype='object')"
      ]
     },
     "execution_count": 64,
     "metadata": {},
     "output_type": "execute_result"
    }
   ],
   "source": [
    "# type(data)\n",
    "data.columns"
   ]
  },
  {
   "cell_type": "code",
   "execution_count": 65,
   "id": "b633ec89",
   "metadata": {},
   "outputs": [
    {
     "data": {
      "text/html": [
       "<div>\n",
       "<style scoped>\n",
       "    .dataframe tbody tr th:only-of-type {\n",
       "        vertical-align: middle;\n",
       "    }\n",
       "\n",
       "    .dataframe tbody tr th {\n",
       "        vertical-align: top;\n",
       "    }\n",
       "\n",
       "    .dataframe thead th {\n",
       "        text-align: right;\n",
       "    }\n",
       "</style>\n",
       "<table border=\"1\" class=\"dataframe\">\n",
       "  <thead>\n",
       "    <tr style=\"text-align: right;\">\n",
       "      <th></th>\n",
       "      <th>cycle</th>\n",
       "      <th>gnd_ph_count</th>\n",
       "      <th>gt</th>\n",
       "      <th>extent_id</th>\n",
       "      <th>spot</th>\n",
       "      <th>solar_elevation_x</th>\n",
       "      <th>h_max_canopy</th>\n",
       "      <th>rgt</th>\n",
       "      <th>h_mean_canopy</th>\n",
       "      <th>h_min_canopy</th>\n",
       "      <th>...</th>\n",
       "      <th>h_te_median</th>\n",
       "      <th>segment_id</th>\n",
       "      <th>geometry</th>\n",
       "      <th>pce_mframe_cnt</th>\n",
       "      <th>solar_elevation_y</th>\n",
       "      <th>asr%</th>\n",
       "      <th>Longitude</th>\n",
       "      <th>Latitude</th>\n",
       "      <th>Easting</th>\n",
       "      <th>Northing</th>\n",
       "    </tr>\n",
       "    <tr>\n",
       "      <th>time</th>\n",
       "      <th></th>\n",
       "      <th></th>\n",
       "      <th></th>\n",
       "      <th></th>\n",
       "      <th></th>\n",
       "      <th></th>\n",
       "      <th></th>\n",
       "      <th></th>\n",
       "      <th></th>\n",
       "      <th></th>\n",
       "      <th></th>\n",
       "      <th></th>\n",
       "      <th></th>\n",
       "      <th></th>\n",
       "      <th></th>\n",
       "      <th></th>\n",
       "      <th></th>\n",
       "      <th></th>\n",
       "      <th></th>\n",
       "      <th></th>\n",
       "      <th></th>\n",
       "    </tr>\n",
       "  </thead>\n",
       "  <tbody>\n",
       "    <tr>\n",
       "      <th>2021-05-23 01:47:15.204737536</th>\n",
       "      <td>11</td>\n",
       "      <td>0</td>\n",
       "      <td>30</td>\n",
       "      <td>4075758429421961218</td>\n",
       "      <td>4</td>\n",
       "      <td>13.351813</td>\n",
       "      <td>9.183409e-41</td>\n",
       "      <td>905</td>\n",
       "      <td>9.183269e-41</td>\n",
       "      <td>-6.581233e-10</td>\n",
       "      <td>...</td>\n",
       "      <td>-2.420784e-28</td>\n",
       "      <td>239030</td>\n",
       "      <td>POINT (-116.75768 43.06258)</td>\n",
       "      <td>1341452613</td>\n",
       "      <td>13.351835</td>\n",
       "      <td>0.0</td>\n",
       "      <td>-116.757680</td>\n",
       "      <td>43.062577</td>\n",
       "      <td>519732.309206</td>\n",
       "      <td>4.767792e+06</td>\n",
       "    </tr>\n",
       "    <tr>\n",
       "      <th>2021-05-23 01:47:15.207337472</th>\n",
       "      <td>11</td>\n",
       "      <td>0</td>\n",
       "      <td>30</td>\n",
       "      <td>4075758429421961222</td>\n",
       "      <td>4</td>\n",
       "      <td>13.351813</td>\n",
       "      <td>9.183409e-41</td>\n",
       "      <td>905</td>\n",
       "      <td>9.183269e-41</td>\n",
       "      <td>-6.581233e-10</td>\n",
       "      <td>...</td>\n",
       "      <td>-2.420784e-28</td>\n",
       "      <td>239031</td>\n",
       "      <td>POINT (-116.75757 43.06273)</td>\n",
       "      <td>1341452613</td>\n",
       "      <td>13.351870</td>\n",
       "      <td>0.0</td>\n",
       "      <td>-116.757574</td>\n",
       "      <td>43.062734</td>\n",
       "      <td>519740.925089</td>\n",
       "      <td>4.767809e+06</td>\n",
       "    </tr>\n",
       "    <tr>\n",
       "      <th>2021-05-23 01:47:15.209987456</th>\n",
       "      <td>11</td>\n",
       "      <td>0</td>\n",
       "      <td>30</td>\n",
       "      <td>4075758429421961226</td>\n",
       "      <td>4</td>\n",
       "      <td>13.351858</td>\n",
       "      <td>9.183409e-41</td>\n",
       "      <td>905</td>\n",
       "      <td>9.183269e-41</td>\n",
       "      <td>-6.581233e-10</td>\n",
       "      <td>...</td>\n",
       "      <td>-2.420784e-28</td>\n",
       "      <td>239032</td>\n",
       "      <td>POINT (-116.75767 43.06291)</td>\n",
       "      <td>1341452613</td>\n",
       "      <td>13.351930</td>\n",
       "      <td>0.0</td>\n",
       "      <td>-116.757669</td>\n",
       "      <td>43.062910</td>\n",
       "      <td>519733.126621</td>\n",
       "      <td>4.767829e+06</td>\n",
       "    </tr>\n",
       "    <tr>\n",
       "      <th>2021-05-23 01:47:15.212937472</th>\n",
       "      <td>11</td>\n",
       "      <td>0</td>\n",
       "      <td>30</td>\n",
       "      <td>4075758429421961230</td>\n",
       "      <td>4</td>\n",
       "      <td>13.351891</td>\n",
       "      <td>9.183409e-41</td>\n",
       "      <td>905</td>\n",
       "      <td>9.183269e-41</td>\n",
       "      <td>-6.581233e-10</td>\n",
       "      <td>...</td>\n",
       "      <td>-2.420784e-28</td>\n",
       "      <td>239033</td>\n",
       "      <td>POINT (-116.75769 43.0631)</td>\n",
       "      <td>1341452613</td>\n",
       "      <td>13.352001</td>\n",
       "      <td>0.0</td>\n",
       "      <td>-116.757692</td>\n",
       "      <td>43.063098</td>\n",
       "      <td>519731.191605</td>\n",
       "      <td>4.767850e+06</td>\n",
       "    </tr>\n",
       "    <tr>\n",
       "      <th>2021-05-23 01:47:15.215637504</th>\n",
       "      <td>11</td>\n",
       "      <td>0</td>\n",
       "      <td>30</td>\n",
       "      <td>4075758429421961234</td>\n",
       "      <td>4</td>\n",
       "      <td>13.351989</td>\n",
       "      <td>9.183409e-41</td>\n",
       "      <td>905</td>\n",
       "      <td>9.183269e-41</td>\n",
       "      <td>-6.581233e-10</td>\n",
       "      <td>...</td>\n",
       "      <td>-2.420784e-28</td>\n",
       "      <td>239034</td>\n",
       "      <td>POINT (-116.75775 43.06327)</td>\n",
       "      <td>1341452613</td>\n",
       "      <td>13.352049</td>\n",
       "      <td>0.0</td>\n",
       "      <td>-116.757754</td>\n",
       "      <td>43.063274</td>\n",
       "      <td>519726.055631</td>\n",
       "      <td>4.767869e+06</td>\n",
       "    </tr>\n",
       "    <tr>\n",
       "      <th>...</th>\n",
       "      <td>...</td>\n",
       "      <td>...</td>\n",
       "      <td>...</td>\n",
       "      <td>...</td>\n",
       "      <td>...</td>\n",
       "      <td>...</td>\n",
       "      <td>...</td>\n",
       "      <td>...</td>\n",
       "      <td>...</td>\n",
       "      <td>...</td>\n",
       "      <td>...</td>\n",
       "      <td>...</td>\n",
       "      <td>...</td>\n",
       "      <td>...</td>\n",
       "      <td>...</td>\n",
       "      <td>...</td>\n",
       "      <td>...</td>\n",
       "      <td>...</td>\n",
       "      <td>...</td>\n",
       "      <td>...</td>\n",
       "      <td>...</td>\n",
       "    </tr>\n",
       "    <tr>\n",
       "      <th>2021-07-26 10:58:40.405612544</th>\n",
       "      <td>12</td>\n",
       "      <td>0</td>\n",
       "      <td>60</td>\n",
       "      <td>2256304266937373687</td>\n",
       "      <td>1</td>\n",
       "      <td>-14.510273</td>\n",
       "      <td>0.000000e+00</td>\n",
       "      <td>501</td>\n",
       "      <td>0.000000e+00</td>\n",
       "      <td>0.000000e+00</td>\n",
       "      <td>...</td>\n",
       "      <td>0.000000e+00</td>\n",
       "      <td>762765</td>\n",
       "      <td>POINT (-116.79865 43.06191)</td>\n",
       "      <td>3260108448</td>\n",
       "      <td>-14.510353</td>\n",
       "      <td>0.0</td>\n",
       "      <td>-116.798647</td>\n",
       "      <td>43.061915</td>\n",
       "      <td>516396.714523</td>\n",
       "      <td>4.767710e+06</td>\n",
       "    </tr>\n",
       "    <tr>\n",
       "      <th>2021-07-26 10:58:40.409162496</th>\n",
       "      <td>12</td>\n",
       "      <td>0</td>\n",
       "      <td>60</td>\n",
       "      <td>2256304266937373691</td>\n",
       "      <td>1</td>\n",
       "      <td>-14.510433</td>\n",
       "      <td>0.000000e+00</td>\n",
       "      <td>501</td>\n",
       "      <td>0.000000e+00</td>\n",
       "      <td>0.000000e+00</td>\n",
       "      <td>...</td>\n",
       "      <td>0.000000e+00</td>\n",
       "      <td>762766</td>\n",
       "      <td>POINT (-116.79868 43.06169)</td>\n",
       "      <td>3260108448</td>\n",
       "      <td>-14.510498</td>\n",
       "      <td>0.0</td>\n",
       "      <td>-116.798684</td>\n",
       "      <td>43.061689</td>\n",
       "      <td>516393.798527</td>\n",
       "      <td>4.767684e+06</td>\n",
       "    </tr>\n",
       "    <tr>\n",
       "      <th>2021-07-26 10:58:40.410612480</th>\n",
       "      <td>12</td>\n",
       "      <td>0</td>\n",
       "      <td>60</td>\n",
       "      <td>2256304266937373695</td>\n",
       "      <td>1</td>\n",
       "      <td>-14.510539</td>\n",
       "      <td>0.000000e+00</td>\n",
       "      <td>501</td>\n",
       "      <td>0.000000e+00</td>\n",
       "      <td>0.000000e+00</td>\n",
       "      <td>...</td>\n",
       "      <td>0.000000e+00</td>\n",
       "      <td>762767</td>\n",
       "      <td>POINT (-116.7987 43.0616)</td>\n",
       "      <td>3260108448</td>\n",
       "      <td>-14.510564</td>\n",
       "      <td>0.0</td>\n",
       "      <td>-116.798698</td>\n",
       "      <td>43.061597</td>\n",
       "      <td>516392.624064</td>\n",
       "      <td>4.767674e+06</td>\n",
       "    </tr>\n",
       "    <tr>\n",
       "      <th>2021-07-26 10:58:40.417812480</th>\n",
       "      <td>12</td>\n",
       "      <td>0</td>\n",
       "      <td>60</td>\n",
       "      <td>2256304266937373703</td>\n",
       "      <td>1</td>\n",
       "      <td>-14.510810</td>\n",
       "      <td>0.000000e+00</td>\n",
       "      <td>501</td>\n",
       "      <td>0.000000e+00</td>\n",
       "      <td>0.000000e+00</td>\n",
       "      <td>...</td>\n",
       "      <td>0.000000e+00</td>\n",
       "      <td>762769</td>\n",
       "      <td>POINT (-116.79877 43.06114)</td>\n",
       "      <td>3260108449</td>\n",
       "      <td>-14.510907</td>\n",
       "      <td>0.0</td>\n",
       "      <td>-116.798772</td>\n",
       "      <td>43.061138</td>\n",
       "      <td>516386.753171</td>\n",
       "      <td>4.767623e+06</td>\n",
       "    </tr>\n",
       "    <tr>\n",
       "      <th>2021-07-26 10:58:40.420112512</th>\n",
       "      <td>12</td>\n",
       "      <td>0</td>\n",
       "      <td>60</td>\n",
       "      <td>2256304266937373707</td>\n",
       "      <td>1</td>\n",
       "      <td>-14.510961</td>\n",
       "      <td>0.000000e+00</td>\n",
       "      <td>501</td>\n",
       "      <td>0.000000e+00</td>\n",
       "      <td>0.000000e+00</td>\n",
       "      <td>...</td>\n",
       "      <td>0.000000e+00</td>\n",
       "      <td>762770</td>\n",
       "      <td>POINT (-116.7988 43.06099)</td>\n",
       "      <td>3260108449</td>\n",
       "      <td>-14.511026</td>\n",
       "      <td>0.0</td>\n",
       "      <td>-116.798796</td>\n",
       "      <td>43.060991</td>\n",
       "      <td>516384.876699</td>\n",
       "      <td>4.767607e+06</td>\n",
       "    </tr>\n",
       "  </tbody>\n",
       "</table>\n",
       "<p>15915 rows × 28 columns</p>\n",
       "</div>"
      ],
      "text/plain": [
       "                               cycle  gnd_ph_count  gt            extent_id  \\\n",
       "time                                                                          \n",
       "2021-05-23 01:47:15.204737536     11             0  30  4075758429421961218   \n",
       "2021-05-23 01:47:15.207337472     11             0  30  4075758429421961222   \n",
       "2021-05-23 01:47:15.209987456     11             0  30  4075758429421961226   \n",
       "2021-05-23 01:47:15.212937472     11             0  30  4075758429421961230   \n",
       "2021-05-23 01:47:15.215637504     11             0  30  4075758429421961234   \n",
       "...                              ...           ...  ..                  ...   \n",
       "2021-07-26 10:58:40.405612544     12             0  60  2256304266937373687   \n",
       "2021-07-26 10:58:40.409162496     12             0  60  2256304266937373691   \n",
       "2021-07-26 10:58:40.410612480     12             0  60  2256304266937373695   \n",
       "2021-07-26 10:58:40.417812480     12             0  60  2256304266937373703   \n",
       "2021-07-26 10:58:40.420112512     12             0  60  2256304266937373707   \n",
       "\n",
       "                               spot  solar_elevation_x  h_max_canopy  rgt  \\\n",
       "time                                                                        \n",
       "2021-05-23 01:47:15.204737536     4          13.351813  9.183409e-41  905   \n",
       "2021-05-23 01:47:15.207337472     4          13.351813  9.183409e-41  905   \n",
       "2021-05-23 01:47:15.209987456     4          13.351858  9.183409e-41  905   \n",
       "2021-05-23 01:47:15.212937472     4          13.351891  9.183409e-41  905   \n",
       "2021-05-23 01:47:15.215637504     4          13.351989  9.183409e-41  905   \n",
       "...                             ...                ...           ...  ...   \n",
       "2021-07-26 10:58:40.405612544     1         -14.510273  0.000000e+00  501   \n",
       "2021-07-26 10:58:40.409162496     1         -14.510433  0.000000e+00  501   \n",
       "2021-07-26 10:58:40.410612480     1         -14.510539  0.000000e+00  501   \n",
       "2021-07-26 10:58:40.417812480     1         -14.510810  0.000000e+00  501   \n",
       "2021-07-26 10:58:40.420112512     1         -14.510961  0.000000e+00  501   \n",
       "\n",
       "                               h_mean_canopy  h_min_canopy  ...   h_te_median  \\\n",
       "time                                                        ...                 \n",
       "2021-05-23 01:47:15.204737536   9.183269e-41 -6.581233e-10  ... -2.420784e-28   \n",
       "2021-05-23 01:47:15.207337472   9.183269e-41 -6.581233e-10  ... -2.420784e-28   \n",
       "2021-05-23 01:47:15.209987456   9.183269e-41 -6.581233e-10  ... -2.420784e-28   \n",
       "2021-05-23 01:47:15.212937472   9.183269e-41 -6.581233e-10  ... -2.420784e-28   \n",
       "2021-05-23 01:47:15.215637504   9.183269e-41 -6.581233e-10  ... -2.420784e-28   \n",
       "...                                      ...           ...  ...           ...   \n",
       "2021-07-26 10:58:40.405612544   0.000000e+00  0.000000e+00  ...  0.000000e+00   \n",
       "2021-07-26 10:58:40.409162496   0.000000e+00  0.000000e+00  ...  0.000000e+00   \n",
       "2021-07-26 10:58:40.410612480   0.000000e+00  0.000000e+00  ...  0.000000e+00   \n",
       "2021-07-26 10:58:40.417812480   0.000000e+00  0.000000e+00  ...  0.000000e+00   \n",
       "2021-07-26 10:58:40.420112512   0.000000e+00  0.000000e+00  ...  0.000000e+00   \n",
       "\n",
       "                               segment_id                     geometry  \\\n",
       "time                                                                     \n",
       "2021-05-23 01:47:15.204737536      239030  POINT (-116.75768 43.06258)   \n",
       "2021-05-23 01:47:15.207337472      239031  POINT (-116.75757 43.06273)   \n",
       "2021-05-23 01:47:15.209987456      239032  POINT (-116.75767 43.06291)   \n",
       "2021-05-23 01:47:15.212937472      239033   POINT (-116.75769 43.0631)   \n",
       "2021-05-23 01:47:15.215637504      239034  POINT (-116.75775 43.06327)   \n",
       "...                                   ...                          ...   \n",
       "2021-07-26 10:58:40.405612544      762765  POINT (-116.79865 43.06191)   \n",
       "2021-07-26 10:58:40.409162496      762766  POINT (-116.79868 43.06169)   \n",
       "2021-07-26 10:58:40.410612480      762767    POINT (-116.7987 43.0616)   \n",
       "2021-07-26 10:58:40.417812480      762769  POINT (-116.79877 43.06114)   \n",
       "2021-07-26 10:58:40.420112512      762770   POINT (-116.7988 43.06099)   \n",
       "\n",
       "                               pce_mframe_cnt  solar_elevation_y  asr%  \\\n",
       "time                                                                     \n",
       "2021-05-23 01:47:15.204737536      1341452613          13.351835   0.0   \n",
       "2021-05-23 01:47:15.207337472      1341452613          13.351870   0.0   \n",
       "2021-05-23 01:47:15.209987456      1341452613          13.351930   0.0   \n",
       "2021-05-23 01:47:15.212937472      1341452613          13.352001   0.0   \n",
       "2021-05-23 01:47:15.215637504      1341452613          13.352049   0.0   \n",
       "...                                       ...                ...   ...   \n",
       "2021-07-26 10:58:40.405612544      3260108448         -14.510353   0.0   \n",
       "2021-07-26 10:58:40.409162496      3260108448         -14.510498   0.0   \n",
       "2021-07-26 10:58:40.410612480      3260108448         -14.510564   0.0   \n",
       "2021-07-26 10:58:40.417812480      3260108449         -14.510907   0.0   \n",
       "2021-07-26 10:58:40.420112512      3260108449         -14.511026   0.0   \n",
       "\n",
       "                                Longitude   Latitude        Easting  \\\n",
       "time                                                                  \n",
       "2021-05-23 01:47:15.204737536 -116.757680  43.062577  519732.309206   \n",
       "2021-05-23 01:47:15.207337472 -116.757574  43.062734  519740.925089   \n",
       "2021-05-23 01:47:15.209987456 -116.757669  43.062910  519733.126621   \n",
       "2021-05-23 01:47:15.212937472 -116.757692  43.063098  519731.191605   \n",
       "2021-05-23 01:47:15.215637504 -116.757754  43.063274  519726.055631   \n",
       "...                                   ...        ...            ...   \n",
       "2021-07-26 10:58:40.405612544 -116.798647  43.061915  516396.714523   \n",
       "2021-07-26 10:58:40.409162496 -116.798684  43.061689  516393.798527   \n",
       "2021-07-26 10:58:40.410612480 -116.798698  43.061597  516392.624064   \n",
       "2021-07-26 10:58:40.417812480 -116.798772  43.061138  516386.753171   \n",
       "2021-07-26 10:58:40.420112512 -116.798796  43.060991  516384.876699   \n",
       "\n",
       "                                   Northing  \n",
       "time                                         \n",
       "2021-05-23 01:47:15.204737536  4.767792e+06  \n",
       "2021-05-23 01:47:15.207337472  4.767809e+06  \n",
       "2021-05-23 01:47:15.209987456  4.767829e+06  \n",
       "2021-05-23 01:47:15.212937472  4.767850e+06  \n",
       "2021-05-23 01:47:15.215637504  4.767869e+06  \n",
       "...                                     ...  \n",
       "2021-07-26 10:58:40.405612544  4.767710e+06  \n",
       "2021-07-26 10:58:40.409162496  4.767684e+06  \n",
       "2021-07-26 10:58:40.410612480  4.767674e+06  \n",
       "2021-07-26 10:58:40.417812480  4.767623e+06  \n",
       "2021-07-26 10:58:40.420112512  4.767607e+06  \n",
       "\n",
       "[15915 rows x 28 columns]"
      ]
     },
     "execution_count": 65,
     "metadata": {},
     "output_type": "execute_result"
    }
   ],
   "source": [
    "#Set utmzone code - utm zone 11:32611\n",
    "utm_code = 'epsg:32611' \n",
    "\n",
    "data['Longitude'] = data['geometry'].x\n",
    "data['Latitude'] = data['geometry'].y\n",
    "eastnorths = data['geometry'].to_crs(utm_code)\n",
    "data['Easting'] = eastnorths.x\n",
    "data['Northing'] = eastnorths.y\n",
    "data"
   ]
  },
  {
   "cell_type": "markdown",
   "id": "1a407769",
   "metadata": {},
   "source": [
    "## Write to csv - ATL08"
   ]
  },
  {
   "cell_type": "code",
   "execution_count": 20,
   "id": "47c74392",
   "metadata": {},
   "outputs": [],
   "source": [
    "# import datetime \n",
    "# data['Date'] = pd.to_datetime(data.index)\n",
    "# data = data[(data['Date'].dt.month >= 5) & (data['Date'].dt.month <= 9)]\n",
    "# data[1:6]"
   ]
  },
  {
   "cell_type": "code",
   "execution_count": null,
   "id": "729f0e80",
   "metadata": {},
   "outputs": [],
   "source": [
    "# cvs_name = \"/Users/titus/BSU/remote_sensing/carbon_estimation/data/icesat2_data/rcew_icesat2_atl08sr_may21_jul21_new2.csv\" #set name of the output\n",
    "# data.to_csv(cvs_name)"
   ]
  },
  {
   "cell_type": "markdown",
   "id": "b18cf836",
   "metadata": {},
   "source": [
    "## Write to geojson"
   ]
  },
  {
   "cell_type": "code",
   "execution_count": null,
   "id": "2f47bf28",
   "metadata": {},
   "outputs": [
    {
     "data": {
      "text/plain": [
       "'/Users/titus/BSU/remote_sensing/carbon_estimation/data/icesat2_data/rcew_icesat2_atl08sr_may21_jul21_new2.geojson'"
      ]
     },
     "execution_count": 24,
     "metadata": {},
     "output_type": "execute_result"
    }
   ],
   "source": [
    "# outName = cvs_name.replace('.csv', '.geojson')  # Create an output file name using the input file name\n",
    "# outName"
   ]
  },
  {
   "cell_type": "code",
   "execution_count": null,
   "id": "452117ed",
   "metadata": {},
   "outputs": [],
   "source": [
    "# data.to_file(outName, driver='GeoJSON')  # Export to GeoJSON"
   ]
  },
  {
   "cell_type": "code",
   "execution_count": null,
   "id": "118535b5",
   "metadata": {},
   "outputs": [],
   "source": []
  }
 ],
 "metadata": {
  "kernelspec": {
   "display_name": "carbon",
   "language": "python",
   "name": "python3"
  },
  "language_info": {
   "codemirror_mode": {
    "name": "ipython",
    "version": 3
   },
   "file_extension": ".py",
   "mimetype": "text/x-python",
   "name": "python",
   "nbconvert_exporter": "python",
   "pygments_lexer": "ipython3",
   "version": "3.10.15"
  }
 },
 "nbformat": 4,
 "nbformat_minor": 5
}
