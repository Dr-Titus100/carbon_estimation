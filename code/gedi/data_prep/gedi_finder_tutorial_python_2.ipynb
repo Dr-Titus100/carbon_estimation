{
 "cells": [
  {
   "cell_type": "markdown",
   "id": "43a88b0d",
   "metadata": {},
   "source": [
    "# Spatial Querying of GEDI Version 2 Data in Python\n",
    "\n",
    "The Global Ecosystem Dynamics Investigation ([GEDI](https://lpdaac.usgs.gov/data/get-started-data/collection-overview/missions/gedi-overview/)) mission aims to characterize ecosystem structure and dynamics to enable radically improved quantification and understanding of the Earth's carbon cycle and biodiversity. The Land Processes Distributed Active Archive Center (LP DAAC) distributes the GEDI Level 1 and Level 2 Version 1 and Version 2 products. The LP DAAC created the GEDI Finder _Web Service_ to allow users to perform spatial queries of GEDI _Version 1_ L1-L2 full-orbit granules. One of the updates for GEDI _Version 2_ included additional spatial metadata that allows users to perform spatial queries via a graphical user interface (GUI) using NASA's [Earthdata Search](https://search.earthdata.nasa.gov/search) or programmatically using NASA's [Common Metadata Repository](https://cmr.earthdata.nasa.gov/search) (CMR). Another update is that each GEDI V1 full-orbit granule has been divided into 4 sub-orbit granules in V2.   \n",
    "\n",
    "### This tutorial will show how to use Python to perform a spatial query for GEDI V2 data using NASA's CMR, how to reformat the CMR response into a list of links pointing to the intersecting sub-orbit granules, and how to export the list of links as a text file. \n",
    "---\n",
    "## Use Case Example:  \n",
    "This tutorial was developed using an example use case for a current GEDI Finder user who has been using the GEDI Finder web service in Python to find intersecting GEDI L2A Version 1 full-orbit granules over the Amazon Rainforest. The user is now looking to use the same workflow to find intersecting GEDI L2A V2 sub-orbit granules. \n",
    "\n",
    "\n",
    "***    \n",
    "## Applicable Data Products: \n",
    "### This tutorial can be used to perform spatial queries on the following products:\n",
    "- **GEDI L1B Geolocated Waveform Data Global Footprint Level - [GEDI01_B.002](https://doi.org/10.5067/GEDI/GEDI01_B.002)**\n",
    "- **GEDI L2A Elevation and Height Metrics Data Global Footprint Level - [GEDI02_A.002](https://doi.org/10.5067/GEDI/GEDI02_A.002)**\n",
    "- **GEDI L2B Canopy Cover and Vertical Profile Metrics Data Global Footprint Level - [GEDI02_B.002](https://doi.org/10.5067/GEDI/GEDI02_B.002)**\n",
    "\n",
    "***  \n",
    "# Topics Covered:\n",
    "1. [**Import Packages**](#importpackages)  \n",
    "2. [**Define Function to Query CMR**](#definefunction)      \n",
    "3. [**Execute GEDI_Finder Function**](#executefunction)      \n",
    "4. [**Export Results**](#exportresults)        \n",
    "***\n",
    "# Before Starting this Tutorial:\n",
    "\n",
    "This tutorial requires a compatible Python Environment. To setup the Python environment, follow the steps in sections 1 of the [set-up instruction](https://github.com/nasa/GEDI-Data-Resources/Setup/setup_instructions.md). \n",
    " \n",
    "***\n",
    "## Source Code used to Generate this Tutorial:\n",
    "The repository containing all of the required files is located at: https://github.com/nasa/GEDI-Data-Resources  "
   ]
  },
  {
   "cell_type": "markdown",
   "id": "2aa9271b",
   "metadata": {},
   "source": [
    "\n",
    "# 1. Import Packages <a id=\"importpackages\"></a>\n",
    "#### All of the packages required to execute this tutorial are included in the Python Standard Library."
   ]
  },
  {
   "cell_type": "code",
   "execution_count": 5,
   "id": "58cf1146",
   "metadata": {},
   "outputs": [],
   "source": [
    "import requests as r\n",
    "from datetime import datetime\n",
    "import os"
   ]
  },
  {
   "cell_type": "markdown",
   "id": "693a3d94",
   "metadata": {},
   "source": [
    "# 2. Define Function to Query CMR <a id=\"definefunction\"></a>\n",
    "#### In the code cell below, define a function called `gedi_finder` that takes two *user-submitted* input values, a `product` and a `bbox`.\n",
    "#### There are three available products for this function, including 'GEDI01_B.002', 'GEDI02_A.002' and 'GEDI02_B.002'. \n",
    "#### A dictionary is set up to relate each product \"shortname.version\" to its associated \"concept_id\", which is a value used by NASA's CMR to retrieve data for a specific product. Additional information on concept ID's can be found in the [CMR Search API Documentation](https://cmr.earthdata.nasa.gov/search/site/docs/search/api.html#c-concept-id).\n",
    "\n",
    "#### The second user-submitted input value, `bbox` is a string of bounding box coordinate values (decimal degrees) in the following format:\n",
    "#### Lower Left Longitude, Lower Left Latitude, Upper Right Longitude, Upper Right Latitude (\"LLLon,LLLat,URLon,URLat\")  \n",
    "> #### Example: `'-73.65,-12.64,-47.81,9.7'`"
   ]
  },
  {
   "cell_type": "code",
   "execution_count": 14,
   "id": "456d47f1",
   "metadata": {},
   "outputs": [],
   "source": [
    "def gedi_finder(product, bbox):\n",
    "    \n",
    "    # Define the base CMR granule search url, including LPDAAC provider name and max page size (2000 is the max allowed)\n",
    "    cmr = \"https://cmr.earthdata.nasa.gov/search/granules.json?pretty=true&provider=LPCLOUD&page_size=2000&concept_id=\"\n",
    "    \n",
    "    # Set up dictionary where key is GEDI shortname + version\n",
    "    concept_ids = {'GEDI02_B.002': 'C2142776747-LPCLOUD', \n",
    "                   'GEDI02_A.002': 'C2142771958-LPCLOUD', \n",
    "                   'GEDI01_B.002': 'C2142749196-LPCLOUD'}\n",
    "    \n",
    "    # # Set up dictionary where key is GEDI shortname + version\n",
    "    # concept_ids = {'GEDI01_B.002': 'C1908344278-LPDAAC_ECS', \n",
    "    #                'GEDI02_A.002': 'C1908348134-LPDAAC_ECS', \n",
    "    #                'GEDI02_B.002': 'C1908350066-LPDAAC_ECS'}\n",
    "    \n",
    "    # CMR uses pagination for queries with more features returned than the page size\n",
    "    page = 1\n",
    "    bbox = bbox.replace(' ', '')  # remove any white spaces\n",
    "    try:\n",
    "        # Send GET request to CMR granule search endpoint w/ product concept ID, bbox & page number, format return as json\n",
    "        cmr_response = r.get(f\"{cmr}{concept_ids[product]}&bounding_box={bbox}&pageNum={page}\").json()['feed']['entry']\n",
    "        # If 2000 features are returned, move to the next page and submit another request, and append to the response\n",
    "        while len(cmr_response) % 2000 == 0:\n",
    "            page += 1\n",
    "            cmr_response += r.get(f\"{cmr}{concept_ids[product]}&bounding_box={bbox}&pageNum={page}\").json()['feed']['entry']\n",
    "        # CMR returns more info than just the download links, below use list comprehension to return a list of DP links\n",
    "        return [c['links'][0]['href'] for c in cmr_response]\n",
    "    except:\n",
    "        # If the request did not complete successfully, print out the response from CMR\n",
    "        print(r.get(f\"{cmr}{concept_ids[product]}&bounding_box={bbox.replace(' ', '')}&pageNum={page}\").json())"
   ]
  },
  {
   "cell_type": "markdown",
   "id": "3d76a504",
   "metadata": {},
   "source": [
    "#### The function returns a list of links to download the intersecting GEDI sub-orbit V2 granules. "
   ]
  },
  {
   "cell_type": "markdown",
   "id": "99c60e32",
   "metadata": {},
   "source": [
    "# 3. Execute GEDI Finder Function <a id=\"executefunction\"></a>\n",
    "### Below is a demonstration of how to set the two required inputs to the `gedi_finder` function to variables."
   ]
  },
  {
   "cell_type": "code",
   "execution_count": 15,
   "id": "f05ebfc6",
   "metadata": {},
   "outputs": [],
   "source": [
    "# # User-provided inputs (UPDATE FOR YOUR DESIRED PRODUCT AND BOUNDING BOX REGION OF INTEREST)\n",
    "# product = 'GEDI02_A.002'           # Options include 'GEDI01_B.002', 'GEDI02_A.002', 'GEDI02_B.002'\n",
    "# bbox = '-73.65,-12.64,-47.81,9.7'  # bounding box coordinates in LL Longitude, LL Latitude, UR Longitude, UR Latitude format\n",
    "\n",
    "# User-provided inputs (UPDATE FOR YOUR DESIRED PRODUCT AND BOUNDING BOX REGION OF INTEREST)\n",
    "product = 'GEDI02_A.002'           # Options include 'GEDI01_B.002', 'GEDI02_A.002', 'GEDI02_B.002'\n",
    "bbox = '-116.85937937,43.06087509,-116.68789263,43.31306195' # bounding box coordinates in LL Longitude, LL Latitude, UR Longitude, UR Latitude format"
   ]
  },
  {
   "cell_type": "markdown",
   "id": "48730717",
   "metadata": {},
   "source": [
    "#### Above, the variables are defined to query the `GEDI02_B.002` product for a bounding box covering the Amazon Rainforest."
   ]
  },
  {
   "cell_type": "markdown",
   "id": "862ccddd",
   "metadata": {},
   "source": [
    "#### Next, call the `gedi_finder` function for the desired product and bounding box region of interest defined above, and set the output to a variable."
   ]
  },
  {
   "cell_type": "code",
   "execution_count": 16,
   "id": "8cc79b3d",
   "metadata": {},
   "outputs": [
    {
     "name": "stdout",
     "output_type": "stream",
     "text": [
      "74 GEDI02_A.002 Version 2 granules found.\n"
     ]
    }
   ],
   "source": [
    "granules = gedi_finder(product, bbox)\n",
    "print(f\"{len(granules)} {product} Version 2 granules found.\")"
   ]
  },
  {
   "cell_type": "code",
   "execution_count": 17,
   "id": "03fcfed5",
   "metadata": {},
   "outputs": [
    {
     "name": "stdout",
     "output_type": "stream",
     "text": [
      "https://data.lpdaac.earthdatacloud.nasa.gov/lp-prod-protected/GEDI02_A.002/GEDI02_A_2019137101716_O02416_03_T03984_02_003_01_V002/GEDI02_A_2019137101716_O02416_03_T03984_02_003_01_V002.h5\n",
      "https://data.lpdaac.earthdatacloud.nasa.gov/lp-prod-protected/GEDI02_A.002/GEDI02_A_2019142030259_O02489_02_T00140_02_003_01_V002/GEDI02_A_2019142030259_O02489_02_T00140_02_003_01_V002.h5\n",
      "https://data.lpdaac.earthdatacloud.nasa.gov/lp-prod-protected/GEDI02_A.002/GEDI02_A_2019144073502_O02523_03_T02408_02_003_01_V002/GEDI02_A_2019144073502_O02523_03_T02408_02_003_01_V002.h5\n",
      "https://data.lpdaac.earthdatacloud.nasa.gov/lp-prod-protected/GEDI02_A.002/GEDI02_A_2019152224635_O02657_02_T05679_02_003_01_V002/GEDI02_A_2019152224635_O02657_02_T05679_02_003_01_V002.h5\n",
      "https://data.lpdaac.earthdatacloud.nasa.gov/lp-prod-protected/GEDI02_A.002/GEDI02_A_2019169212519_O02920_03_T05407_02_003_01_V002/GEDI02_A_2019169212519_O02920_03_T05407_02_003_01_V002.h5\n",
      "https://data.lpdaac.earthdatacloud.nasa.gov/lp-prod-protected/GEDI02_A.002/GEDI02_A_2019178123620_O03054_02_T01716_02_003_01_V002/GEDI02_A_2019178123620_O03054_02_T01716_02_003_01_V002.h5\n",
      "https://data.lpdaac.earthdatacloud.nasa.gov/lp-prod-protected/GEDI02_A.002/GEDI02_A_2019195111704_O03317_03_T03831_02_003_01_V002/GEDI02_A_2019195111704_O03317_03_T03831_02_003_01_V002.h5\n",
      "https://data.lpdaac.earthdatacloud.nasa.gov/lp-prod-protected/GEDI02_A.002/GEDI02_A_2019204022957_O03451_02_T04103_02_003_02_V002/GEDI02_A_2019204022957_O03451_02_T04103_02_003_02_V002.h5\n",
      "https://data.lpdaac.earthdatacloud.nasa.gov/lp-prod-protected/GEDI02_A.002/GEDI02_A_2019218203648_O03680_02_T02986_02_003_02_V002/GEDI02_A_2019218203648_O03680_02_T02986_02_003_02_V002.h5\n",
      "https://data.lpdaac.earthdatacloud.nasa.gov/lp-prod-protected/GEDI02_A.002/GEDI02_A_2019233144710_O03909_02_T01410_02_003_01_V002/GEDI02_A_2019233144710_O03909_02_T01410_02_003_01_V002.h5\n",
      "https://data.lpdaac.earthdatacloud.nasa.gov/lp-prod-protected/GEDI02_A.002/GEDI02_A_2019278205038_O04611_02_T04409_02_003_01_V002/GEDI02_A_2019278205038_O04611_02_T04409_02_003_01_V002.h5\n",
      "https://data.lpdaac.earthdatacloud.nasa.gov/lp-prod-protected/GEDI02_A.002/GEDI02_A_2019284234932_O04706_03_T00832_02_003_01_V002/GEDI02_A_2019284234932_O04706_03_T00832_02_003_01_V002.h5\n",
      "https://data.lpdaac.earthdatacloud.nasa.gov/lp-prod-protected/GEDI02_A.002/GEDI02_A_2019301115353_O04962_02_T04256_02_003_01_V002/GEDI02_A_2019301115353_O04962_02_T04256_02_003_01_V002.h5\n",
      "https://data.lpdaac.earthdatacloud.nasa.gov/lp-prod-protected/GEDI02_A.002/GEDI02_A_2019307145231_O05057_03_T05101_02_003_01_V002/GEDI02_A_2019307145231_O05057_03_T05101_02_003_01_V002.h5\n",
      "https://data.lpdaac.earthdatacloud.nasa.gov/lp-prod-protected/GEDI02_A.002/GEDI02_A_2019328012216_O05374_02_T01563_02_003_01_V002/GEDI02_A_2019328012216_O05374_02_T01563_02_003_01_V002.h5\n",
      "https://data.lpdaac.earthdatacloud.nasa.gov/lp-prod-protected/GEDI02_A.002/GEDI02_A_2019334042200_O05469_03_T03525_02_003_01_V002/GEDI02_A_2019334042200_O05469_03_T03525_02_003_01_V002.h5\n",
      "https://data.lpdaac.earthdatacloud.nasa.gov/lp-prod-protected/GEDI02_A.002/GEDI02_A_2020153215302_O08333_02_T02833_02_003_01_V002/GEDI02_A_2020153215302_O08333_02_T02833_02_003_01_V002.h5\n",
      "https://data.lpdaac.earthdatacloud.nasa.gov/lp-prod-protected/GEDI02_A.002/GEDI02_A_2020157201832_O08394_02_T01410_02_003_01_V002/GEDI02_A_2020157201832_O08394_02_T01410_02_003_01_V002.h5\n",
      "https://data.lpdaac.earthdatacloud.nasa.gov/lp-prod-protected/GEDI02_A.002/GEDI02_A_2020161184358_O08455_02_T04562_02_003_01_V002/GEDI02_A_2020161184358_O08455_02_T04562_02_003_01_V002.h5\n",
      "https://data.lpdaac.earthdatacloud.nasa.gov/lp-prod-protected/GEDI02_A.002/GEDI02_A_2020165170923_O08516_02_T03139_02_003_01_V002/GEDI02_A_2020165170923_O08516_02_T03139_02_003_01_V002.h5\n",
      "https://data.lpdaac.earthdatacloud.nasa.gov/lp-prod-protected/GEDI02_A.002/GEDI02_A_2020179170313_O08733_03_T03678_02_003_01_V002/GEDI02_A_2020179170313_O08733_03_T03678_02_003_01_V002.h5\n",
      "https://data.lpdaac.earthdatacloud.nasa.gov/lp-prod-protected/GEDI02_A.002/GEDI02_A_2020183152831_O08794_03_T02561_02_003_01_V002/GEDI02_A_2020183152831_O08794_03_T02561_02_003_01_V002.h5\n",
      "https://data.lpdaac.earthdatacloud.nasa.gov/lp-prod-protected/GEDI02_A.002/GEDI02_A_2020191122040_O08916_03_T01138_02_003_01_V002/GEDI02_A_2020191122040_O08916_03_T01138_02_003_01_V002.h5\n",
      "https://data.lpdaac.earthdatacloud.nasa.gov/lp-prod-protected/GEDI02_A.002/GEDI02_A_2021007070555_O11734_02_T06949_02_003_02_V002/GEDI02_A_2021007070555_O11734_02_T06949_02_003_02_V002.h5\n",
      "https://data.lpdaac.earthdatacloud.nasa.gov/lp-prod-protected/GEDI02_A.002/GEDI02_A_2021011053157_O11795_02_T11371_02_003_02_V002/GEDI02_A_2021011053157_O11795_02_T11371_02_003_02_V002.h5\n",
      "https://data.lpdaac.earthdatacloud.nasa.gov/lp-prod-protected/GEDI02_A.002/GEDI02_A_2021015035754_O11856_02_T07102_02_003_02_V002/GEDI02_A_2021015035754_O11856_02_T07102_02_003_02_V002.h5\n",
      "https://data.lpdaac.earthdatacloud.nasa.gov/lp-prod-protected/GEDI02_A.002/GEDI02_A_2021019022350_O11917_02_T07255_02_003_02_V002/GEDI02_A_2021019022350_O11917_02_T07255_02_003_02_V002.h5\n",
      "https://data.lpdaac.earthdatacloud.nasa.gov/lp-prod-protected/GEDI02_A.002/GEDI02_A_2021023005016_O11978_02_T05832_02_003_02_V002/GEDI02_A_2021023005016_O11978_02_T05832_02_003_02_V002.h5\n",
      "https://data.lpdaac.earthdatacloud.nasa.gov/lp-prod-protected/GEDI02_A.002/GEDI02_A_2021026231743_O12039_02_T09948_02_003_02_V002/GEDI02_A_2021026231743_O12039_02_T09948_02_003_02_V002.h5\n",
      "https://data.lpdaac.earthdatacloud.nasa.gov/lp-prod-protected/GEDI02_A.002/GEDI02_A_2021124140303_O13552_03_T11252_02_003_02_V002/GEDI02_A_2021124140303_O13552_03_T11252_02_003_02_V002.h5\n",
      "https://data.lpdaac.earthdatacloud.nasa.gov/lp-prod-protected/GEDI02_A.002/GEDI02_A_2021128123009_O13613_03_T06830_02_003_02_V002/GEDI02_A_2021128123009_O13613_03_T06830_02_003_02_V002.h5\n",
      "https://data.lpdaac.earthdatacloud.nasa.gov/lp-prod-protected/GEDI02_A.002/GEDI02_A_2021132105712_O13674_03_T00985_02_003_02_V002/GEDI02_A_2021132105712_O13674_03_T00985_02_003_02_V002.h5\n",
      "https://data.lpdaac.earthdatacloud.nasa.gov/lp-prod-protected/GEDI02_A.002/GEDI02_A_2021140075110_O13796_03_T06677_02_003_02_V002/GEDI02_A_2021140075110_O13796_03_T06677_02_003_02_V002.h5\n",
      "https://data.lpdaac.earthdatacloud.nasa.gov/lp-prod-protected/GEDI02_A.002/GEDI02_A_2021144061826_O13857_03_T07947_02_003_02_V002/GEDI02_A_2021144061826_O13857_03_T07947_02_003_02_V002.h5\n",
      "https://data.lpdaac.earthdatacloud.nasa.gov/lp-prod-protected/GEDI02_A.002/GEDI02_A_2021148044543_O13918_03_T10793_02_003_02_V002/GEDI02_A_2021148044543_O13918_03_T10793_02_003_02_V002.h5\n",
      "https://data.lpdaac.earthdatacloud.nasa.gov/lp-prod-protected/GEDI02_A.002/GEDI02_A_2021177114430_O14372_02_T00293_02_003_02_V002/GEDI02_A_2021177114430_O14372_02_T00293_02_003_02_V002.h5\n",
      "https://data.lpdaac.earthdatacloud.nasa.gov/lp-prod-protected/GEDI02_A.002/GEDI02_A_2021185084021_O14494_02_T09795_02_003_02_V002/GEDI02_A_2021185084021_O14494_02_T09795_02_003_02_V002.h5\n",
      "https://data.lpdaac.earthdatacloud.nasa.gov/lp-prod-protected/GEDI02_A.002/GEDI02_A_2021239163327_O15336_03_T05254_02_003_02_V002/GEDI02_A_2021239163327_O15336_03_T05254_02_003_02_V002.h5\n",
      "https://data.lpdaac.earthdatacloud.nasa.gov/lp-prod-protected/GEDI02_A.002/GEDI02_A_2021243150209_O15397_03_T09217_02_003_02_V002/GEDI02_A_2021243150209_O15397_03_T09217_02_003_02_V002.h5\n",
      "https://data.lpdaac.earthdatacloud.nasa.gov/lp-prod-protected/GEDI02_A.002/GEDI02_A_2021253054806_O15546_02_T10254_02_003_02_V002/GEDI02_A_2021253054806_O15546_02_T10254_02_003_02_V002.h5\n",
      "https://data.lpdaac.earthdatacloud.nasa.gov/lp-prod-protected/GEDI02_A.002/GEDI02_A_2021257041703_O15607_02_T04103_02_003_02_V002/GEDI02_A_2021257041703_O15607_02_T04103_02_003_02_V002.h5\n",
      "https://data.lpdaac.earthdatacloud.nasa.gov/lp-prod-protected/GEDI02_A.002/GEDI02_A_2021295182220_O16205_03_T09676_02_003_02_V002/GEDI02_A_2021295182220_O16205_03_T09676_02_003_02_V002.h5\n",
      "https://data.lpdaac.earthdatacloud.nasa.gov/lp-prod-protected/GEDI02_A.002/GEDI02_A_2021299165008_O16266_03_T11099_02_003_02_V002/GEDI02_A_2021299165008_O16266_03_T11099_02_003_02_V002.h5\n",
      "https://data.lpdaac.earthdatacloud.nasa.gov/lp-prod-protected/GEDI02_A.002/GEDI02_A_2021307134515_O16388_03_T06371_02_003_02_V002/GEDI02_A_2021307134515_O16388_03_T06371_02_003_02_V002.h5\n",
      "https://data.lpdaac.earthdatacloud.nasa.gov/lp-prod-protected/GEDI02_A.002/GEDI02_A_2021321025725_O16598_02_T05985_02_003_02_V002/GEDI02_A_2021321025725_O16598_02_T05985_02_003_02_V002.h5\n",
      "https://data.lpdaac.earthdatacloud.nasa.gov/lp-prod-protected/GEDI02_A.002/GEDI02_A_2021325012555_O16659_02_T07102_02_003_02_V002/GEDI02_A_2021325012555_O16659_02_T07102_02_003_02_V002.h5\n",
      "https://data.lpdaac.earthdatacloud.nasa.gov/lp-prod-protected/GEDI02_A.002/GEDI02_A_2022003081947_O17330_02_T06949_02_003_02_V002/GEDI02_A_2022003081947_O17330_02_T06949_02_003_02_V002.h5\n",
      "https://data.lpdaac.earthdatacloud.nasa.gov/lp-prod-protected/GEDI02_A.002/GEDI02_A_2022007064340_O17391_02_T07408_02_003_02_V002/GEDI02_A_2022007064340_O17391_02_T07408_02_003_02_V002.h5\n",
      "https://data.lpdaac.earthdatacloud.nasa.gov/lp-prod-protected/GEDI02_A.002/GEDI02_A_2022013094432_O17486_03_T06524_02_003_02_V002/GEDI02_A_2022013094432_O17486_03_T06524_02_003_02_V002.h5\n",
      "https://data.lpdaac.earthdatacloud.nasa.gov/lp-prod-protected/GEDI02_A.002/GEDI02_A_2022017080946_O17547_03_T10946_02_003_02_V002/GEDI02_A_2022017080946_O17547_03_T10946_02_003_02_V002.h5\n",
      "https://data.lpdaac.earthdatacloud.nasa.gov/lp-prod-protected/GEDI02_A.002/GEDI02_A_2022021063444_O17608_03_T08253_02_003_02_V002/GEDI02_A_2022021063444_O17608_03_T08253_02_003_02_V002.h5\n",
      "https://data.lpdaac.earthdatacloud.nasa.gov/lp-prod-protected/GEDI02_A.002/GEDI02_A_2022049135950_O18047_02_T08678_02_003_04_V002/GEDI02_A_2022049135950_O18047_02_T08678_02_003_04_V002.h5\n",
      "https://data.lpdaac.earthdatacloud.nasa.gov/lp-prod-protected/GEDI02_A.002/GEDI02_A_2022059152509_O18203_03_T08100_02_003_02_V002/GEDI02_A_2022059152509_O18203_03_T08100_02_003_02_V002.h5\n",
      "https://data.lpdaac.earthdatacloud.nasa.gov/lp-prod-protected/GEDI02_A.002/GEDI02_A_2022099180724_O18825_02_T08831_02_003_02_V002/GEDI02_A_2022099180724_O18825_02_T08831_02_003_02_V002.h5\n",
      "https://data.lpdaac.earthdatacloud.nasa.gov/lp-prod-protected/GEDI02_A.002/GEDI02_A_2022105210714_O18920_03_T09370_02_003_02_V002/GEDI02_A_2022105210714_O18920_03_T09370_02_003_02_V002.h5\n",
      "https://data.lpdaac.earthdatacloud.nasa.gov/lp-prod-protected/GEDI02_A.002/GEDI02_A_2022136090323_O19393_03_T05101_02_003_02_V002/GEDI02_A_2022136090323_O19393_03_T05101_02_003_02_V002.h5\n",
      "https://data.lpdaac.earthdatacloud.nasa.gov/lp-prod-protected/GEDI02_A.002/GEDI02_A_2022164162725_O19832_02_T02833_02_003_03_V002/GEDI02_A_2022164162725_O19832_02_T02833_02_003_03_V002.h5\n",
      "https://data.lpdaac.earthdatacloud.nasa.gov/lp-prod-protected/GEDI02_A.002/GEDI02_A_2022174175204_O19988_03_T10793_02_003_03_V002/GEDI02_A_2022174175204_O19988_03_T10793_02_003_03_V002.h5\n",
      "https://data.lpdaac.earthdatacloud.nasa.gov/lp-prod-protected/GEDI02_A.002/GEDI02_A_2022178161611_O20049_03_T02714_02_003_03_V002/GEDI02_A_2022178161611_O20049_03_T02714_02_003_03_V002.h5\n",
      "https://data.lpdaac.earthdatacloud.nasa.gov/lp-prod-protected/GEDI02_A.002/GEDI02_A_2022199024943_O20366_02_T09795_02_003_03_V002/GEDI02_A_2022199024943_O20366_02_T09795_02_003_03_V002.h5\n",
      "https://data.lpdaac.earthdatacloud.nasa.gov/lp-prod-protected/GEDI02_A.002/GEDI02_A_2022209041217_O20522_03_T11099_02_003_03_V002/GEDI02_A_2022209041217_O20522_03_T11099_02_003_03_V002.h5\n",
      "https://data.lpdaac.earthdatacloud.nasa.gov/lp-prod-protected/GEDI02_A.002/GEDI02_A_2022225161639_O20778_02_T02986_02_003_02_V002/GEDI02_A_2022225161639_O20778_02_T02986_02_003_02_V002.h5\n",
      "https://data.lpdaac.earthdatacloud.nasa.gov/lp-prod-protected/GEDI02_A.002/GEDI02_A_2022231191529_O20873_03_T10946_02_003_02_V002/GEDI02_A_2022231191529_O20873_03_T10946_02_003_02_V002.h5\n",
      "https://data.lpdaac.earthdatacloud.nasa.gov/lp-prod-protected/GEDI02_A.002/GEDI02_A_2022252054458_O21190_02_T04562_02_003_02_V002/GEDI02_A_2022252054458_O21190_02_T04562_02_003_02_V002.h5\n",
      "https://data.lpdaac.earthdatacloud.nasa.gov/lp-prod-protected/GEDI02_A.002/GEDI02_A_2022258084401_O21285_03_T00985_02_003_02_V002/GEDI02_A_2022258084401_O21285_03_T00985_02_003_02_V002.h5\n",
      "https://data.lpdaac.earthdatacloud.nasa.gov/lp-prod-protected/GEDI02_A.002/GEDI02_A_2022274204755_O21541_02_T00140_02_003_02_V002/GEDI02_A_2022274204755_O21541_02_T00140_02_003_02_V002.h5\n",
      "https://data.lpdaac.earthdatacloud.nasa.gov/lp-prod-protected/GEDI02_A.002/GEDI02_A_2022284221313_O21697_03_T02408_02_003_02_V002/GEDI02_A_2022284221313_O21697_03_T02408_02_003_02_V002.h5\n",
      "https://data.lpdaac.earthdatacloud.nasa.gov/lp-prod-protected/GEDI02_A.002/GEDI02_A_2022323070140_O22292_03_T08100_02_003_02_V002/GEDI02_A_2022323070140_O22292_03_T08100_02_003_02_V002.h5\n",
      "https://data.lpdaac.earthdatacloud.nasa.gov/lp-prod-protected/GEDI02_A.002/GEDI02_A_2022343173235_O22609_02_T10101_02_003_02_V002/GEDI02_A_2022343173235_O22609_02_T10101_02_003_02_V002.h5\n",
      "https://data.lpdaac.earthdatacloud.nasa.gov/lp-prod-protected/GEDI02_A.002/GEDI02_A_2022353185624_O22765_03_T05407_02_003_02_V002/GEDI02_A_2022353185624_O22765_03_T05407_02_003_02_V002.h5\n",
      "https://data.lpdaac.earthdatacloud.nasa.gov/lp-prod-protected/GEDI02_A.002/GEDI02_A_2023013035408_O23143_02_T05832_02_003_02_V002/GEDI02_A_2023013035408_O23143_02_T05832_02_003_02_V002.h5\n",
      "https://data.lpdaac.earthdatacloud.nasa.gov/lp-prod-protected/GEDI02_A.002/GEDI02_A_2023019065252_O23238_03_T00832_02_003_02_V002/GEDI02_A_2023019065252_O23238_03_T00832_02_003_02_V002.h5\n",
      "https://data.lpdaac.earthdatacloud.nasa.gov/lp-prod-protected/GEDI02_A.002/GEDI02_A_2023035185853_O23494_02_T05679_02_003_02_V002/GEDI02_A_2023035185853_O23494_02_T05679_02_003_02_V002.h5\n",
      "https://data.lpdaac.earthdatacloud.nasa.gov/lp-prod-protected/GEDI02_A.002/GEDI02_A_2023039172332_O23555_02_T01563_02_003_02_V002/GEDI02_A_2023039172332_O23555_02_T01563_02_003_02_V002.h5\n"
     ]
    }
   ],
   "source": [
    "for g in granules:\n",
    "    print(g)"
   ]
  },
  {
   "cell_type": "markdown",
   "id": "1695e6d8",
   "metadata": {},
   "source": [
    "#### Notice the print statement above will notify you how many granules intersected your bounding box for the product requested."
   ]
  },
  {
   "cell_type": "markdown",
   "id": "1bb0847d",
   "metadata": {},
   "source": [
    "# 4. Export Results <a id=\"exportresults\"></a>\n",
    "#### Below is a demonstration of how to take the `granules` list of download links for intersecting GEDI V2 granules and export as a text file. The text file will be written to your current working directory, and will be named based on the date and time that the file was created. "
   ]
  },
  {
   "cell_type": "code",
   "execution_count": 5,
   "id": "c0f6ecff",
   "metadata": {},
   "outputs": [
    {
     "name": "stdout",
     "output_type": "stream",
     "text": [
      "File containing links to intersecting GEDI02_B.002 Version 2 data has been saved to:\n",
      " /Users/titus/BSU/remote_sensing/tutorials/gedi/python\\GEDI02_B_002_GranuleList_20241016063335.txt\n"
     ]
    }
   ],
   "source": [
    "# Set up output text file name using the current datetime\n",
    "outName = f\"{product.replace('.', '_')}_GranuleList_{datetime.now().strftime('%Y%m%d%H%M%S')}.txt\"\n",
    "\n",
    "# Open file and write each granule link on a new line\n",
    "with open(outName, \"w\") as gf:\n",
    "    for g in granules:\n",
    "        gf.write(f\"{g}\\n\")\n",
    "print(f\"File containing links to intersecting {product} Version 2 data has been saved to:\\n {os.getcwd()}\\{outName}\")"
   ]
  },
  {
   "cell_type": "markdown",
   "id": "4b1717ca",
   "metadata": {},
   "source": [
    "## Contact Info:  \n",
    "\n",
    "Email: LPDAAC@usgs.gov  \n",
    "Voice: +1-866-573-3222  \n",
    "Organization: Land Processes Distributed Active Archive Center (LP DAAC)¹  \n",
    "Website: <https://lpdaac.usgs.gov/>  \n",
    "Date last modified: 02-20-2024  \n",
    "\n",
    "¹Work performed under USGS contract G15PD00467 for NASA contract NNG14HH33I.  "
   ]
  },
  {
   "cell_type": "markdown",
   "id": "19495726",
   "metadata": {},
   "source": []
  }
 ],
 "metadata": {
  "kernelspec": {
   "display_name": "Python 3 (ipykernel)",
   "language": "python",
   "name": "python3"
  },
  "language_info": {
   "codemirror_mode": {
    "name": "ipython",
    "version": 3
   },
   "file_extension": ".py",
   "mimetype": "text/x-python",
   "name": "python",
   "nbconvert_exporter": "python",
   "pygments_lexer": "ipython3",
   "version": "3.10.14"
  },
  "vscode": {
   "interpreter": {
    "hash": "303454083be38f4f4ded9b6a78c3d461d42e357933f26159a9c36c3a6745d9b7"
   }
  }
 },
 "nbformat": 4,
 "nbformat_minor": 5
}
